{
 "cells": [
  {
   "cell_type": "code",
   "execution_count": 1,
   "id": "54df4a83",
   "metadata": {},
   "outputs": [],
   "source": [
    "import pandas as pd\n",
    "import nltk"
   ]
  },
  {
   "cell_type": "code",
   "execution_count": 2,
   "id": "4f632977",
   "metadata": {},
   "outputs": [],
   "source": [
    "data=pd.read_excel('data.xlsx')"
   ]
  },
  {
   "cell_type": "markdown",
   "id": "0f73d41b",
   "metadata": {},
   "source": [
    "# Tokenizing data\n"
   ]
  },
  {
   "cell_type": "code",
   "execution_count": 3,
   "id": "01271429",
   "metadata": {},
   "outputs": [],
   "source": [
    "def Tokenize(arg):\n",
    "    res=nltk.tokenize.wordpunct_tokenize(data['text'][0])\n",
    "    return res"
   ]
  },
  {
   "cell_type": "code",
   "execution_count": 4,
   "id": "25411d54",
   "metadata": {},
   "outputs": [],
   "source": [
    "tokenized=list()\n",
    "for txt in data.text:\n",
    "    tokenized.append(Tokenize(txt))\n",
    "    "
   ]
  },
  {
   "cell_type": "markdown",
   "id": "bd2c0c11",
   "metadata": {},
   "source": [
    "# Stemming data"
   ]
  },
  {
   "cell_type": "code",
   "execution_count": 5,
   "id": "7e3171da",
   "metadata": {},
   "outputs": [],
   "source": [
    "stemmer=nltk.ISRIStemmer()"
   ]
  },
  {
   "cell_type": "code",
   "execution_count": 6,
   "id": "d7c55ac5",
   "metadata": {},
   "outputs": [],
   "source": [
    "stemmed_data=[]\n",
    "for i in tokenized:\n",
    "    for j in i:\n",
    "        stemmed_data.append(stemmer.stem(j))\n",
    "        "
   ]
  },
  {
   "cell_type": "code",
   "execution_count": 7,
   "id": "80d4b3bf",
   "metadata": {},
   "outputs": [
    {
     "data": {
      "text/plain": [
       "3519272"
      ]
     },
     "execution_count": 7,
     "metadata": {},
     "output_type": "execute_result"
    }
   ],
   "source": [
    "len(stemmed_data)"
   ]
  },
  {
   "cell_type": "markdown",
   "id": "9ed473ad",
   "metadata": {},
   "source": [
    "# Lemmatizing data"
   ]
  },
  {
   "cell_type": "code",
   "execution_count": 8,
   "id": "b72afec2",
   "metadata": {},
   "outputs": [],
   "source": [
    "import qalsadi.lemmatizer"
   ]
  },
  {
   "cell_type": "code",
   "execution_count": 9,
   "id": "d32e7883",
   "metadata": {},
   "outputs": [],
   "source": [
    "lemmer = qalsadi.lemmatizer.Lemmatizer()"
   ]
  },
  {
   "cell_type": "code",
   "execution_count": 38,
   "id": "72a30325",
   "metadata": {},
   "outputs": [
    {
     "ename": "KeyboardInterrupt",
     "evalue": "",
     "output_type": "error",
     "traceback": [
      "\u001b[1;31m---------------------------------------------------------------------------\u001b[0m",
      "\u001b[1;31mKeyboardInterrupt\u001b[0m                         Traceback (most recent call last)",
      "\u001b[1;32m<ipython-input-38-98ab410d2890>\u001b[0m in \u001b[0;36m<module>\u001b[1;34m\u001b[0m\n\u001b[0;32m      2\u001b[0m \u001b[1;32mfor\u001b[0m \u001b[0mi\u001b[0m \u001b[1;32min\u001b[0m \u001b[0mtokenized\u001b[0m\u001b[1;33m:\u001b[0m\u001b[1;33m\u001b[0m\u001b[1;33m\u001b[0m\u001b[0m\n\u001b[0;32m      3\u001b[0m     \u001b[1;32mfor\u001b[0m \u001b[0mj\u001b[0m \u001b[1;32min\u001b[0m \u001b[0mi\u001b[0m\u001b[1;33m:\u001b[0m\u001b[1;33m\u001b[0m\u001b[1;33m\u001b[0m\u001b[0m\n\u001b[1;32m----> 4\u001b[1;33m         \u001b[0mlemmatized_data\u001b[0m\u001b[1;33m.\u001b[0m\u001b[0mappend\u001b[0m\u001b[1;33m(\u001b[0m\u001b[0mlemmer\u001b[0m\u001b[1;33m.\u001b[0m\u001b[0mlemmatize\u001b[0m\u001b[1;33m(\u001b[0m\u001b[0mj\u001b[0m\u001b[1;33m)\u001b[0m\u001b[1;33m)\u001b[0m\u001b[1;33m\u001b[0m\u001b[1;33m\u001b[0m\u001b[0m\n\u001b[0m\u001b[0;32m      5\u001b[0m \u001b[1;33m\u001b[0m\u001b[0m\n",
      "\u001b[1;32mC:\\ProgramData\\Anaconda3\\lib\\site-packages\\qalsadi\\lemmatizer.py\u001b[0m in \u001b[0;36mlemmatize\u001b[1;34m(self, word, return_pos, pos)\u001b[0m\n\u001b[0;32m    157\u001b[0m         \u001b[1;33m@\u001b[0m\u001b[0mtype\u001b[0m \u001b[0mtext\u001b[0m\u001b[1;33m:\u001b[0m \u001b[0municode\u001b[0m\u001b[1;33m\u001b[0m\u001b[1;33m\u001b[0m\u001b[0m\n\u001b[0;32m    158\u001b[0m         \"\"\"\n\u001b[1;32m--> 159\u001b[1;33m         \u001b[0mlemmas\u001b[0m \u001b[1;33m=\u001b[0m \u001b[0mself\u001b[0m\u001b[1;33m.\u001b[0m\u001b[0mlemmatize_text\u001b[0m\u001b[1;33m(\u001b[0m\u001b[0mword\u001b[0m\u001b[1;33m,\u001b[0m \u001b[0mreturn_pos\u001b[0m\u001b[1;33m=\u001b[0m\u001b[0mreturn_pos\u001b[0m\u001b[1;33m,\u001b[0m \u001b[0mpos\u001b[0m\u001b[1;33m=\u001b[0m\u001b[0mpos\u001b[0m\u001b[1;33m)\u001b[0m\u001b[1;33m\u001b[0m\u001b[1;33m\u001b[0m\u001b[0m\n\u001b[0m\u001b[0;32m    160\u001b[0m         \u001b[1;32mif\u001b[0m \u001b[0mlemmas\u001b[0m\u001b[1;33m:\u001b[0m\u001b[1;33m\u001b[0m\u001b[1;33m\u001b[0m\u001b[0m\n\u001b[0;32m    161\u001b[0m             \u001b[1;32mreturn\u001b[0m \u001b[0mlemmas\u001b[0m\u001b[1;33m[\u001b[0m\u001b[1;36m0\u001b[0m\u001b[1;33m]\u001b[0m\u001b[1;33m\u001b[0m\u001b[1;33m\u001b[0m\u001b[0m\n",
      "\u001b[1;32mC:\\ProgramData\\Anaconda3\\lib\\site-packages\\qalsadi\\lemmatizer.py\u001b[0m in \u001b[0;36mlemmatize_text\u001b[1;34m(self, text, return_pos, pos)\u001b[0m\n\u001b[0;32m    146\u001b[0m         \"\"\"\n\u001b[0;32m    147\u001b[0m \u001b[1;33m\u001b[0m\u001b[0m\n\u001b[1;32m--> 148\u001b[1;33m         \u001b[0mresult\u001b[0m    \u001b[1;33m=\u001b[0m  \u001b[0mself\u001b[0m\u001b[1;33m.\u001b[0m\u001b[0manalexer\u001b[0m\u001b[1;33m.\u001b[0m\u001b[0mcheck_text\u001b[0m\u001b[1;33m(\u001b[0m\u001b[0mtext\u001b[0m\u001b[1;33m)\u001b[0m\u001b[1;33m\u001b[0m\u001b[1;33m\u001b[0m\u001b[0m\n\u001b[0m\u001b[0;32m    149\u001b[0m         \u001b[0mstemnodelist\u001b[0m  \u001b[1;33m=\u001b[0m  \u001b[0mself\u001b[0m\u001b[1;33m.\u001b[0m\u001b[0manalyze\u001b[0m\u001b[1;33m(\u001b[0m\u001b[0mresult\u001b[0m\u001b[1;33m)\u001b[0m\u001b[1;33m\u001b[0m\u001b[1;33m\u001b[0m\u001b[0m\n\u001b[0;32m    150\u001b[0m         \u001b[0mlemmas\u001b[0m \u001b[1;33m=\u001b[0m \u001b[0mself\u001b[0m\u001b[1;33m.\u001b[0m\u001b[0mget_lemmas\u001b[0m\u001b[1;33m(\u001b[0m\u001b[0mstemnodelist\u001b[0m\u001b[1;33m,\u001b[0m \u001b[0mreturn_pos\u001b[0m\u001b[1;33m=\u001b[0m\u001b[0mreturn_pos\u001b[0m\u001b[1;33m,\u001b[0m \u001b[0mpos\u001b[0m\u001b[1;33m=\u001b[0m\u001b[0mpos\u001b[0m\u001b[1;33m)\u001b[0m\u001b[1;33m\u001b[0m\u001b[1;33m\u001b[0m\u001b[0m\n",
      "\u001b[1;32mC:\\ProgramData\\Anaconda3\\lib\\site-packages\\qalsadi\\analex.py\u001b[0m in \u001b[0;36mcheck_text\u001b[1;34m(self, text, mode)\u001b[0m\n\u001b[0;32m    335\u001b[0m                 )  # a ghost function to count words check function calls\n\u001b[0;32m    336\u001b[0m                 \u001b[0mguessedtag\u001b[0m \u001b[1;33m=\u001b[0m \u001b[0mlist_guessed_tag\u001b[0m\u001b[1;33m[\u001b[0m\u001b[0mi\u001b[0m\u001b[1;33m]\u001b[0m\u001b[1;33m\u001b[0m\u001b[1;33m\u001b[0m\u001b[0m\n\u001b[1;32m--> 337\u001b[1;33m                 \u001b[0mone_data_list\u001b[0m \u001b[1;33m=\u001b[0m \u001b[0mself\u001b[0m\u001b[1;33m.\u001b[0m\u001b[0mcheck_word\u001b[0m\u001b[1;33m(\u001b[0m\u001b[0mword\u001b[0m\u001b[1;33m,\u001b[0m \u001b[0mguessedtag\u001b[0m\u001b[1;33m)\u001b[0m\u001b[1;33m\u001b[0m\u001b[1;33m\u001b[0m\u001b[0m\n\u001b[0m\u001b[0;32m    338\u001b[0m                 stemmed_one_data_list = [\n\u001b[0;32m    339\u001b[0m                     \u001b[0mstemmedword\u001b[0m\u001b[1;33m.\u001b[0m\u001b[0mStemmedWord\u001b[0m\u001b[1;33m(\u001b[0m\u001b[0mw\u001b[0m\u001b[1;33m)\u001b[0m \u001b[1;32mfor\u001b[0m \u001b[0mw\u001b[0m \u001b[1;32min\u001b[0m \u001b[0mone_data_list\u001b[0m\u001b[1;33m\u001b[0m\u001b[1;33m\u001b[0m\u001b[0m\n",
      "\u001b[1;32mC:\\ProgramData\\Anaconda3\\lib\\site-packages\\qalsadi\\analex.py\u001b[0m in \u001b[0;36mcheck_word\u001b[1;34m(self, word, guessedtag)\u001b[0m\n\u001b[0;32m    415\u001b[0m                 \u001b[1;31m#print (u\"1 _unknown %s-%s\"%(word, word_nm)).encode('utf8')\u001b[0m\u001b[1;33m\u001b[0m\u001b[1;33m\u001b[0m\u001b[1;33m\u001b[0m\u001b[0m\n\u001b[0;32m    416\u001b[0m                 \u001b[1;31m#check the word as unkonwn\u001b[0m\u001b[1;33m\u001b[0m\u001b[1;33m\u001b[0m\u001b[1;33m\u001b[0m\u001b[0m\n\u001b[1;32m--> 417\u001b[1;33m                 \u001b[0mresulted_data\u001b[0m \u001b[1;33m+=\u001b[0m \u001b[0mself\u001b[0m\u001b[1;33m.\u001b[0m\u001b[0mcheck_word_as_unknown\u001b[0m\u001b[1;33m(\u001b[0m\u001b[0mword_nm\u001b[0m\u001b[1;33m)\u001b[0m\u001b[1;33m\u001b[0m\u001b[1;33m\u001b[0m\u001b[0m\n\u001b[0m\u001b[0;32m    418\u001b[0m                 \u001b[1;31m#check if the word is nomralized and solution are equivalent\u001b[0m\u001b[1;33m\u001b[0m\u001b[1;33m\u001b[0m\u001b[1;33m\u001b[0m\u001b[0m\n\u001b[0;32m    419\u001b[0m             \u001b[0mresulted_data\u001b[0m \u001b[1;33m=\u001b[0m \u001b[0mself\u001b[0m\u001b[1;33m.\u001b[0m\u001b[0mcheck_normalized\u001b[0m\u001b[1;33m(\u001b[0m\u001b[0mword_vocalised\u001b[0m\u001b[1;33m,\u001b[0m \u001b[0mresulted_data\u001b[0m\u001b[1;33m)\u001b[0m\u001b[1;33m\u001b[0m\u001b[1;33m\u001b[0m\u001b[0m\n",
      "\u001b[1;32mC:\\ProgramData\\Anaconda3\\lib\\site-packages\\qalsadi\\analex.py\u001b[0m in \u001b[0;36mcheck_word_as_unknown\u001b[1;34m(self, noun)\u001b[0m\n\u001b[0;32m    641\u001b[0m         \u001b[1;33m@\u001b[0m\u001b[0mrtype\u001b[0m\u001b[1;33m:\u001b[0m \u001b[0mlist\u001b[0m\u001b[1;33m.\u001b[0m\u001b[1;33m\u001b[0m\u001b[1;33m\u001b[0m\u001b[0m\n\u001b[0;32m    642\u001b[0m         \"\"\"\n\u001b[1;32m--> 643\u001b[1;33m         \u001b[1;32mreturn\u001b[0m \u001b[0mself\u001b[0m\u001b[1;33m.\u001b[0m\u001b[0munknownstemmer\u001b[0m\u001b[1;33m.\u001b[0m\u001b[0mstemming_noun\u001b[0m\u001b[1;33m(\u001b[0m\u001b[0mnoun\u001b[0m\u001b[1;33m)\u001b[0m\u001b[1;33m\u001b[0m\u001b[1;33m\u001b[0m\u001b[0m\n\u001b[0m\u001b[0;32m    644\u001b[0m \u001b[1;33m\u001b[0m\u001b[0m\n\u001b[0;32m    645\u001b[0m     \u001b[1;33m@\u001b[0m\u001b[0mstaticmethod\u001b[0m\u001b[1;33m\u001b[0m\u001b[1;33m\u001b[0m\u001b[0m\n",
      "\u001b[1;32mC:\\ProgramData\\Anaconda3\\lib\\site-packages\\qalsadi\\stem_unknown.py\u001b[0m in \u001b[0;36mstemming_noun\u001b[1;34m(self, noun)\u001b[0m\n\u001b[0;32m    146\u001b[0m                 \u001b[0mresult\u001b[0m \u001b[1;33m=\u001b[0m \u001b[1;33m[\u001b[0m\u001b[1;33m]\u001b[0m\u001b[1;33m\u001b[0m\u001b[1;33m\u001b[0m\u001b[0m\n\u001b[0;32m    147\u001b[0m                 \u001b[1;32mfor\u001b[0m \u001b[0mstem\u001b[0m \u001b[1;32min\u001b[0m \u001b[0mlist_stem\u001b[0m\u001b[1;33m:\u001b[0m\u001b[1;33m\u001b[0m\u001b[1;33m\u001b[0m\u001b[0m\n\u001b[1;32m--> 148\u001b[1;33m                     result += self.steming_second_level(\n\u001b[0m\u001b[0;32m    149\u001b[0m                         noun, stem, procletic, encletic)\n\u001b[0;32m    150\u001b[0m                 \u001b[0mdetailed_result\u001b[0m \u001b[1;33m+=\u001b[0m \u001b[0mresult\u001b[0m\u001b[1;33m\u001b[0m\u001b[1;33m\u001b[0m\u001b[0m\n",
      "\u001b[1;32mC:\\ProgramData\\Anaconda3\\lib\\site-packages\\qalsadi\\stem_unknown.py\u001b[0m in \u001b[0;36msteming_second_level\u001b[1;34m(self, noun, noun2, procletic, encletic)\u001b[0m\n\u001b[0;32m    217\u001b[0m                 \u001b[1;31m# if the noun has plural suffix, don't look up\u001b[0m\u001b[1;33m\u001b[0m\u001b[1;33m\u001b[0m\u001b[1;33m\u001b[0m\u001b[0m\n\u001b[0;32m    218\u001b[0m                 \u001b[1;31m# in broken plural dictionary\u001b[0m\u001b[1;33m\u001b[0m\u001b[1;33m\u001b[0m\u001b[1;33m\u001b[0m\u001b[0m\n\u001b[1;32m--> 219\u001b[1;33m                 infnoun_foundlist = self.noun_dictionary.lookup(\n\u001b[0m\u001b[0;32m    220\u001b[0m                     infnoun, 'unknown')\n\u001b[0;32m    221\u001b[0m                 \u001b[0minfnoun_form_list\u001b[0m \u001b[1;33m+=\u001b[0m \u001b[0minfnoun_foundlist\u001b[0m\u001b[1;33m\u001b[0m\u001b[1;33m\u001b[0m\u001b[0m\n",
      "\u001b[1;32mC:\\ProgramData\\Anaconda3\\lib\\site-packages\\arramooz\\wordfreqdictionaryclass.py\u001b[0m in \u001b[0;36mlookup\u001b[1;34m(self, text, word_type)\u001b[0m\n\u001b[0;32m    297\u001b[0m                 \u001b[0msql\u001b[0m \u001b[1;33m+=\u001b[0m \u001b[1;34m\" AND word_type!='verb' \"\u001b[0m\u001b[1;33m\u001b[0m\u001b[1;33m\u001b[0m\u001b[0m\n\u001b[0;32m    298\u001b[0m         \u001b[1;32mtry\u001b[0m\u001b[1;33m:\u001b[0m\u001b[1;33m\u001b[0m\u001b[1;33m\u001b[0m\u001b[0m\n\u001b[1;32m--> 299\u001b[1;33m             \u001b[0mself\u001b[0m\u001b[1;33m.\u001b[0m\u001b[0mcursor\u001b[0m\u001b[1;33m.\u001b[0m\u001b[0mexecute\u001b[0m\u001b[1;33m(\u001b[0m\u001b[0msql\u001b[0m\u001b[1;33m)\u001b[0m\u001b[1;33m\u001b[0m\u001b[1;33m\u001b[0m\u001b[0m\n\u001b[0m\u001b[0;32m    300\u001b[0m         \u001b[1;32mexcept\u001b[0m \u001b[0msqlite\u001b[0m\u001b[1;33m.\u001b[0m\u001b[0mOperationalError\u001b[0m\u001b[1;33m:\u001b[0m\u001b[1;33m\u001b[0m\u001b[1;33m\u001b[0m\u001b[0m\n\u001b[0;32m    301\u001b[0m             \u001b[0mprint\u001b[0m\u001b[1;33m(\u001b[0m\u001b[1;34m\"Fatal Error can't execute query: file: wordfrequencydictionary\"\u001b[0m\u001b[1;33m)\u001b[0m\u001b[1;33m\u001b[0m\u001b[1;33m\u001b[0m\u001b[0m\n",
      "\u001b[1;31mKeyboardInterrupt\u001b[0m: "
     ]
    }
   ],
   "source": [
    "lemmatized_data=[]\n",
    "for i in tokenized:\n",
    "    for j in i:\n",
    "        lemmatized_data.append(lemmer.lemmatize(j))\n",
    "    "
   ]
  },
  {
   "cell_type": "code",
   "execution_count": null,
   "id": "98f01aff",
   "metadata": {},
   "outputs": [],
   "source": [
    "len(lemmatized_data)"
   ]
  },
  {
   "cell_type": "code",
   "execution_count": null,
   "id": "0eb81789",
   "metadata": {},
   "outputs": [],
   "source": []
  },
  {
   "cell_type": "code",
   "execution_count": null,
   "id": "da31f267",
   "metadata": {},
   "outputs": [],
   "source": []
  },
  {
   "cell_type": "code",
   "execution_count": null,
   "id": "c4fd9db2",
   "metadata": {},
   "outputs": [],
   "source": []
  },
  {
   "cell_type": "code",
   "execution_count": null,
   "id": "db5a6dc4",
   "metadata": {},
   "outputs": [],
   "source": []
  }
 ],
 "metadata": {
  "kernelspec": {
   "display_name": "Python 3",
   "language": "python",
   "name": "python3"
  },
  "language_info": {
   "codemirror_mode": {
    "name": "ipython",
    "version": 3
   },
   "file_extension": ".py",
   "mimetype": "text/x-python",
   "name": "python",
   "nbconvert_exporter": "python",
   "pygments_lexer": "ipython3",
   "version": "3.8.8"
  }
 },
 "nbformat": 4,
 "nbformat_minor": 5
}
