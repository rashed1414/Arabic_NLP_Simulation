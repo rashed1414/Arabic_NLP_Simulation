{
 "cells": [
  {
   "cell_type": "markdown",
   "id": "705a0501",
   "metadata": {
    "pycharm": {
     "name": "#%% md\n"
    }
   },
   "source": [
    "# Import required modules"
   ]
  },
  {
   "cell_type": "code",
   "execution_count": 6,
   "id": "54df4a83",
   "metadata": {
    "pycharm": {
     "name": "#%%\n"
    }
   },
   "outputs": [
    {
     "name": "stdout",
     "output_type": "stream",
     "text": [
      "Modules Imported !! \n"
     ]
    }
   ],
   "source": [
    "import pandas as pd\n",
    "import nltk\n",
    "import re\n",
    "from qalsadi import lemmatizer,analex\n",
    "import time\n",
    "print(\"Modules Imported !! \")\n",
    "\n"
   ]
  },
  {
   "cell_type": "markdown",
   "id": "7eca5770",
   "metadata": {
    "pycharm": {
     "name": "#%% md\n"
    }
   },
   "source": [
    "\n",
    "# Data Preparing (Load-Clean)"
   ]
  },
  {
   "cell_type": "code",
   "execution_count": 2,
   "id": "4f632977",
   "metadata": {
    "pycharm": {
     "name": "#%%\n"
    }
   },
   "outputs": [],
   "source": [
    "data=pd.read_excel('data.xlsx') # data loading \n"
   ]
  },
  {
   "cell_type": "code",
   "execution_count": 3,
   "id": "66ff5a89",
   "metadata": {
    "pycharm": {
     "name": "#%%\n"
    }
   },
   "outputs": [
    {
     "data": {
      "text/html": [
       "<div>\n",
       "<style scoped>\n",
       "    .dataframe tbody tr th:only-of-type {\n",
       "        vertical-align: middle;\n",
       "    }\n",
       "\n",
       "    .dataframe tbody tr th {\n",
       "        vertical-align: top;\n",
       "    }\n",
       "\n",
       "    .dataframe thead th {\n",
       "        text-align: right;\n",
       "    }\n",
       "</style>\n",
       "<table border=\"1\" class=\"dataframe\">\n",
       "  <thead>\n",
       "    <tr style=\"text-align: right;\">\n",
       "      <th></th>\n",
       "      <th>sentiment</th>\n",
       "      <th>txt</th>\n",
       "    </tr>\n",
       "  </thead>\n",
       "  <tbody>\n",
       "    <tr>\n",
       "      <th>0</th>\n",
       "      <td>1.0</td>\n",
       "      <td>انشاء الله هنعمل حاجه</td>\n",
       "    </tr>\n",
       "    <tr>\n",
       "      <th>1</th>\n",
       "      <td>0.0</td>\n",
       "      <td>اقسم باللله ان العرب اكثر الشعوب تخلفاا</td>\n",
       "    </tr>\n",
       "    <tr>\n",
       "      <th>2</th>\n",
       "      <td>0.0</td>\n",
       "      <td>﻿هات ناس تفهم .. و المثل بحكي اسأل مجرب و لا ت...</td>\n",
       "    </tr>\n",
       "    <tr>\n",
       "      <th>3</th>\n",
       "      <td>0.0</td>\n",
       "      <td>صرماتي براس اهلك</td>\n",
       "    </tr>\n",
       "    <tr>\n",
       "      <th>4</th>\n",
       "      <td>0.0</td>\n",
       "      <td>حرام السخرية من الناس</td>\n",
       "    </tr>\n",
       "  </tbody>\n",
       "</table>\n",
       "</div>"
      ],
      "text/plain": [
       "   sentiment                                                txt\n",
       "0        1.0                              انشاء الله هنعمل حاجه\n",
       "1        0.0            اقسم باللله ان العرب اكثر الشعوب تخلفاا\n",
       "2        0.0  ﻿هات ناس تفهم .. و المثل بحكي اسأل مجرب و لا ت...\n",
       "3        0.0                                   صرماتي براس اهلك\n",
       "4        0.0                              حرام السخرية من الناس"
      ]
     },
     "execution_count": 3,
     "metadata": {},
     "output_type": "execute_result"
    }
   ],
   "source": [
    "data.head() # show dataframe"
   ]
  },
  {
   "cell_type": "code",
   "execution_count": 4,
   "id": "e767649b",
   "metadata": {
    "pycharm": {
     "name": "#%%\n"
    }
   },
   "outputs": [
    {
     "data": {
      "text/plain": [
       "1.0    10098\n",
       "0.0    10023\n",
       "Name: sentiment, dtype: int64"
      ]
     },
     "execution_count": 4,
     "metadata": {},
     "output_type": "execute_result"
    }
   ],
   "source": [
    "data['sentiment'].value_counts() #count the values of sentiment "
   ]
  },
  {
   "cell_type": "code",
   "execution_count": 5,
   "id": "35a0efb1",
   "metadata": {
    "pycharm": {
     "name": "#%%\n"
    }
   },
   "outputs": [],
   "source": [
    "data = data.dropna() # drop and remove nan (null) value \n"
   ]
  },
  {
   "cell_type": "code",
   "execution_count": 6,
   "id": "09482fc5",
   "metadata": {
    "pycharm": {
     "name": "#%%\n"
    }
   },
   "outputs": [],
   "source": [
    "# method to remove emoji's\n",
    "\n",
    "def remove_emoji(text):\n",
    "    non_arabic_char = re.compile('[^\\s\\\\u0600-\\u06FF]')\n",
    "    text_with_no_spaces = re.sub(non_arabic_char, \"\", text)\n",
    "    text_with_single_spaces = \" \".join(re.split(\"\\s+\", text_with_no_spaces))\n",
    "    \n",
    "    return text_with_single_spaces"
   ]
  },
  {
   "cell_type": "code",
   "execution_count": 7,
   "id": "a1140658",
   "metadata": {
    "pycharm": {
     "name": "#%%\n"
    }
   },
   "outputs": [
    {
     "data": {
      "text/plain": [
       "'\\ufeffهات ناس تفهم .. و المثل بحكي اسأل مجرب و لا تسأل خبير'"
      ]
     },
     "execution_count": 7,
     "metadata": {},
     "output_type": "execute_result"
    }
   ],
   "source": [
    "data.txt[2] #show data before emoji's removal"
   ]
  },
  {
   "cell_type": "code",
   "execution_count": 8,
   "id": "cf571557",
   "metadata": {
    "pycharm": {
     "name": "#%%\n"
    }
   },
   "outputs": [],
   "source": [
    "data[\"txt\"]=data[\"txt\"].map(remove_emoji) #map each row with remove_emoji's function"
   ]
  },
  {
   "cell_type": "code",
   "execution_count": 9,
   "id": "e6c5d388",
   "metadata": {
    "pycharm": {
     "name": "#%%\n"
    }
   },
   "outputs": [
    {
     "data": {
      "text/plain": [
       "'هات ناس تفهم و المثل بحكي اسأل مجرب و لا تسأل خبير'"
      ]
     },
     "execution_count": 9,
     "metadata": {},
     "output_type": "execute_result"
    }
   ],
   "source": [
    "data.txt[2] # show data sample after apply remove_emoji's"
   ]
  },
  {
   "cell_type": "code",
   "execution_count": 10,
   "id": "4350254e",
   "metadata": {
    "pycharm": {
     "name": "#%%\n"
    }
   },
   "outputs": [
    {
     "data": {
      "text/html": [
       "<div>\n",
       "<style scoped>\n",
       "    .dataframe tbody tr th:only-of-type {\n",
       "        vertical-align: middle;\n",
       "    }\n",
       "\n",
       "    .dataframe tbody tr th {\n",
       "        vertical-align: top;\n",
       "    }\n",
       "\n",
       "    .dataframe thead th {\n",
       "        text-align: right;\n",
       "    }\n",
       "</style>\n",
       "<table border=\"1\" class=\"dataframe\">\n",
       "  <thead>\n",
       "    <tr style=\"text-align: right;\">\n",
       "      <th></th>\n",
       "      <th>sentiment</th>\n",
       "      <th>txt</th>\n",
       "    </tr>\n",
       "  </thead>\n",
       "  <tbody>\n",
       "    <tr>\n",
       "      <th>0</th>\n",
       "      <td>1.0</td>\n",
       "      <td>انشاء الله هنعمل حاجه</td>\n",
       "    </tr>\n",
       "    <tr>\n",
       "      <th>1</th>\n",
       "      <td>0.0</td>\n",
       "      <td>اقسم باللله ان العرب اكثر الشعوب تخلفاا</td>\n",
       "    </tr>\n",
       "    <tr>\n",
       "      <th>2</th>\n",
       "      <td>0.0</td>\n",
       "      <td>هات ناس تفهم و المثل بحكي اسأل مجرب و لا تسأل ...</td>\n",
       "    </tr>\n",
       "    <tr>\n",
       "      <th>3</th>\n",
       "      <td>0.0</td>\n",
       "      <td>صرماتي براس اهلك</td>\n",
       "    </tr>\n",
       "    <tr>\n",
       "      <th>4</th>\n",
       "      <td>0.0</td>\n",
       "      <td>حرام السخرية من الناس</td>\n",
       "    </tr>\n",
       "  </tbody>\n",
       "</table>\n",
       "</div>"
      ],
      "text/plain": [
       "   sentiment                                                txt\n",
       "0        1.0                              انشاء الله هنعمل حاجه\n",
       "1        0.0            اقسم باللله ان العرب اكثر الشعوب تخلفاا\n",
       "2        0.0  هات ناس تفهم و المثل بحكي اسأل مجرب و لا تسأل ...\n",
       "3        0.0                                   صرماتي براس اهلك\n",
       "4        0.0                              حرام السخرية من الناس"
      ]
     },
     "execution_count": 10,
     "metadata": {},
     "output_type": "execute_result"
    }
   ],
   "source": [
    "data.head()"
   ]
  },
  {
   "cell_type": "code",
   "execution_count": 11,
   "id": "f09c1109",
   "metadata": {
    "pycharm": {
     "name": "#%%\n"
    }
   },
   "outputs": [
    {
     "data": {
      "text/html": [
       "<div>\n",
       "<style scoped>\n",
       "    .dataframe tbody tr th:only-of-type {\n",
       "        vertical-align: middle;\n",
       "    }\n",
       "\n",
       "    .dataframe tbody tr th {\n",
       "        vertical-align: top;\n",
       "    }\n",
       "\n",
       "    .dataframe thead th {\n",
       "        text-align: right;\n",
       "    }\n",
       "</style>\n",
       "<table border=\"1\" class=\"dataframe\">\n",
       "  <thead>\n",
       "    <tr style=\"text-align: right;\">\n",
       "      <th></th>\n",
       "      <th>sentiment</th>\n",
       "      <th>txt</th>\n",
       "    </tr>\n",
       "  </thead>\n",
       "  <tbody>\n",
       "    <tr>\n",
       "      <th>0</th>\n",
       "      <td>1.0</td>\n",
       "      <td>انشاء الله هنعمل حاجه</td>\n",
       "    </tr>\n",
       "    <tr>\n",
       "      <th>1</th>\n",
       "      <td>0.0</td>\n",
       "      <td>اقسم باللله ان العرب اكثر الشعوب تخلفاا</td>\n",
       "    </tr>\n",
       "    <tr>\n",
       "      <th>2</th>\n",
       "      <td>0.0</td>\n",
       "      <td>هات ناس تفهم و المثل بحكي اسأل مجرب و لا تسأل ...</td>\n",
       "    </tr>\n",
       "    <tr>\n",
       "      <th>3</th>\n",
       "      <td>0.0</td>\n",
       "      <td>صرماتي براس اهلك</td>\n",
       "    </tr>\n",
       "    <tr>\n",
       "      <th>4</th>\n",
       "      <td>0.0</td>\n",
       "      <td>حرام السخرية من الناس</td>\n",
       "    </tr>\n",
       "    <tr>\n",
       "      <th>...</th>\n",
       "      <td>...</td>\n",
       "      <td>...</td>\n",
       "    </tr>\n",
       "    <tr>\n",
       "      <th>20196</th>\n",
       "      <td>0.0</td>\n",
       "      <td>المثل يقول ان أكرمت اللئيم تمردا وهذا بالضبط ...</td>\n",
       "    </tr>\n",
       "    <tr>\n",
       "      <th>20197</th>\n",
       "      <td>1.0</td>\n",
       "      <td>إلي سهران ريتويت بنسولف عالخاص</td>\n",
       "    </tr>\n",
       "    <tr>\n",
       "      <th>20198</th>\n",
       "      <td>0.0</td>\n",
       "      <td>لا تهتم بشخص زياااده ،، تراك بزمن يسمون المهتم...</td>\n",
       "    </tr>\n",
       "    <tr>\n",
       "      <th>20199</th>\n",
       "      <td>0.0</td>\n",
       "      <td>مكى عامل ايه انا دورت عليك كتير امبارح واتصلت...</td>\n",
       "    </tr>\n",
       "    <tr>\n",
       "      <th>20200</th>\n",
       "      <td>1.0</td>\n",
       "      <td>غردبالصوره ههههههه بكرى عندنا إجازة</td>\n",
       "    </tr>\n",
       "  </tbody>\n",
       "</table>\n",
       "<p>20121 rows × 2 columns</p>\n",
       "</div>"
      ],
      "text/plain": [
       "       sentiment                                                txt\n",
       "0            1.0                              انشاء الله هنعمل حاجه\n",
       "1            0.0            اقسم باللله ان العرب اكثر الشعوب تخلفاا\n",
       "2            0.0  هات ناس تفهم و المثل بحكي اسأل مجرب و لا تسأل ...\n",
       "3            0.0                                   صرماتي براس اهلك\n",
       "4            0.0                              حرام السخرية من الناس\n",
       "...          ...                                                ...\n",
       "20196        0.0   المثل يقول ان أكرمت اللئيم تمردا وهذا بالضبط ...\n",
       "20197        1.0                    إلي سهران ريتويت بنسولف عالخاص \n",
       "20198        0.0  لا تهتم بشخص زياااده ،، تراك بزمن يسمون المهتم...\n",
       "20199        0.0   مكى عامل ايه انا دورت عليك كتير امبارح واتصلت...\n",
       "20200        1.0                غردبالصوره ههههههه بكرى عندنا إجازة\n",
       "\n",
       "[20121 rows x 2 columns]"
      ]
     },
     "execution_count": 11,
     "metadata": {},
     "output_type": "execute_result"
    }
   ],
   "source": [
    "data.dropna(axis=1, how='all')\n"
   ]
  },
  {
   "cell_type": "markdown",
   "id": "3f109062",
   "metadata": {
    "pycharm": {
     "name": "#%% md\n"
    }
   },
   "source": [
    "# Data Preprocessing (Tokenize - Stop word remove - stemming or lemmatize) "
   ]
  },
  {
   "cell_type": "markdown",
   "id": "0f73d41b",
   "metadata": {
    "pycharm": {
     "name": "#%% md\n"
    }
   },
   "source": [
    "# Tokenizing data\n"
   ]
  },
  {
   "cell_type": "code",
   "execution_count": 12,
   "id": "01271429",
   "metadata": {
    "pycharm": {
     "name": "#%%\n"
    }
   },
   "outputs": [],
   "source": [
    "def tokenize_text(inp):\n",
    "    return nltk.tokenize.wordpunct_tokenize(inp)"
   ]
  },
  {
   "cell_type": "code",
   "execution_count": 13,
   "id": "d5bdaec4",
   "metadata": {
    "pycharm": {
     "name": "#%%\n"
    }
   },
   "outputs": [],
   "source": [
    "\n",
    "        \n",
    "data.txt = data.txt.apply(lambda sentence: nltk.tokenize.wordpunct_tokenize(sentence))\n"
   ]
  },
  {
   "cell_type": "code",
   "execution_count": 14,
   "id": "7fdbcf17",
   "metadata": {
    "pycharm": {
     "name": "#%%\n"
    }
   },
   "outputs": [
    {
     "data": {
      "text/html": [
       "<div>\n",
       "<style scoped>\n",
       "    .dataframe tbody tr th:only-of-type {\n",
       "        vertical-align: middle;\n",
       "    }\n",
       "\n",
       "    .dataframe tbody tr th {\n",
       "        vertical-align: top;\n",
       "    }\n",
       "\n",
       "    .dataframe thead th {\n",
       "        text-align: right;\n",
       "    }\n",
       "</style>\n",
       "<table border=\"1\" class=\"dataframe\">\n",
       "  <thead>\n",
       "    <tr style=\"text-align: right;\">\n",
       "      <th></th>\n",
       "      <th>sentiment</th>\n",
       "      <th>txt</th>\n",
       "    </tr>\n",
       "  </thead>\n",
       "  <tbody>\n",
       "    <tr>\n",
       "      <th>0</th>\n",
       "      <td>1.0</td>\n",
       "      <td>[انشاء, الله, هنعمل, حاجه]</td>\n",
       "    </tr>\n",
       "    <tr>\n",
       "      <th>1</th>\n",
       "      <td>0.0</td>\n",
       "      <td>[اقسم, باللله, ان, العرب, اكثر, الشعوب, تخلفاا]</td>\n",
       "    </tr>\n",
       "    <tr>\n",
       "      <th>2</th>\n",
       "      <td>0.0</td>\n",
       "      <td>[هات, ناس, تفهم, و, المثل, بحكي, اسأل, مجرب, و...</td>\n",
       "    </tr>\n",
       "    <tr>\n",
       "      <th>3</th>\n",
       "      <td>0.0</td>\n",
       "      <td>[صرماتي, براس, اهلك]</td>\n",
       "    </tr>\n",
       "    <tr>\n",
       "      <th>4</th>\n",
       "      <td>0.0</td>\n",
       "      <td>[حرام, السخرية, من, الناس]</td>\n",
       "    </tr>\n",
       "  </tbody>\n",
       "</table>\n",
       "</div>"
      ],
      "text/plain": [
       "   sentiment                                                txt\n",
       "0        1.0                         [انشاء, الله, هنعمل, حاجه]\n",
       "1        0.0    [اقسم, باللله, ان, العرب, اكثر, الشعوب, تخلفاا]\n",
       "2        0.0  [هات, ناس, تفهم, و, المثل, بحكي, اسأل, مجرب, و...\n",
       "3        0.0                               [صرماتي, براس, اهلك]\n",
       "4        0.0                         [حرام, السخرية, من, الناس]"
      ]
     },
     "execution_count": 14,
     "metadata": {},
     "output_type": "execute_result"
    }
   ],
   "source": [
    "data.head()"
   ]
  },
  {
   "cell_type": "markdown",
   "id": "6f7fdf65",
   "metadata": {
    "pycharm": {
     "name": "#%% md\n"
    }
   },
   "source": [
    "# Stop word removal "
   ]
  },
  {
   "cell_type": "code",
   "execution_count": 15,
   "id": "b7961580",
   "metadata": {
    "pycharm": {
     "name": "#%%\n"
    }
   },
   "outputs": [],
   "source": [
    "def stopword_removal(inp):\n",
    "    arb_stopwords = set(nltk.corpus.stopwords.words(\"arabic\"))\n",
    "    for i in inp:\n",
    "        if i in arb_stopwords:\n",
    "            inp.remove(i)\n",
    "\n",
    "    return inp"
   ]
  },
  {
   "cell_type": "code",
   "execution_count": 16,
   "id": "b88c66a8",
   "metadata": {
    "pycharm": {
     "name": "#%%\n"
    }
   },
   "outputs": [],
   "source": [
    "data.txt=data[\"txt\"].map(stopword_removal)"
   ]
  },
  {
   "cell_type": "code",
   "execution_count": 17,
   "id": "04a2ca03",
   "metadata": {
    "pycharm": {
     "name": "#%%\n"
    }
   },
   "outputs": [
    {
     "data": {
      "text/html": [
       "<div>\n",
       "<style scoped>\n",
       "    .dataframe tbody tr th:only-of-type {\n",
       "        vertical-align: middle;\n",
       "    }\n",
       "\n",
       "    .dataframe tbody tr th {\n",
       "        vertical-align: top;\n",
       "    }\n",
       "\n",
       "    .dataframe thead th {\n",
       "        text-align: right;\n",
       "    }\n",
       "</style>\n",
       "<table border=\"1\" class=\"dataframe\">\n",
       "  <thead>\n",
       "    <tr style=\"text-align: right;\">\n",
       "      <th></th>\n",
       "      <th>sentiment</th>\n",
       "      <th>txt</th>\n",
       "    </tr>\n",
       "  </thead>\n",
       "  <tbody>\n",
       "    <tr>\n",
       "      <th>0</th>\n",
       "      <td>1.0</td>\n",
       "      <td>[انشاء, الله, هنعمل, حاجه]</td>\n",
       "    </tr>\n",
       "    <tr>\n",
       "      <th>1</th>\n",
       "      <td>0.0</td>\n",
       "      <td>[اقسم, باللله, ان, العرب, اكثر, الشعوب, تخلفاا]</td>\n",
       "    </tr>\n",
       "    <tr>\n",
       "      <th>2</th>\n",
       "      <td>0.0</td>\n",
       "      <td>[هات, ناس, تفهم, المثل, بحكي, اسأل, مجرب, لا, ...</td>\n",
       "    </tr>\n",
       "    <tr>\n",
       "      <th>3</th>\n",
       "      <td>0.0</td>\n",
       "      <td>[صرماتي, براس, اهلك]</td>\n",
       "    </tr>\n",
       "    <tr>\n",
       "      <th>4</th>\n",
       "      <td>0.0</td>\n",
       "      <td>[حرام, السخرية, الناس]</td>\n",
       "    </tr>\n",
       "  </tbody>\n",
       "</table>\n",
       "</div>"
      ],
      "text/plain": [
       "   sentiment                                                txt\n",
       "0        1.0                         [انشاء, الله, هنعمل, حاجه]\n",
       "1        0.0    [اقسم, باللله, ان, العرب, اكثر, الشعوب, تخلفاا]\n",
       "2        0.0  [هات, ناس, تفهم, المثل, بحكي, اسأل, مجرب, لا, ...\n",
       "3        0.0                               [صرماتي, براس, اهلك]\n",
       "4        0.0                             [حرام, السخرية, الناس]"
      ]
     },
     "execution_count": 17,
     "metadata": {},
     "output_type": "execute_result"
    }
   ],
   "source": [
    "data.head()"
   ]
  },
  {
   "cell_type": "markdown",
   "id": "bd2c0c11",
   "metadata": {
    "pycharm": {
     "name": "#%% md\n"
    }
   },
   "source": [
    "# Stemming data"
   ]
  },
  {
   "cell_type": "code",
   "execution_count": 18,
   "id": "7e3171da",
   "metadata": {
    "pycharm": {
     "name": "#%%\n"
    }
   },
   "outputs": [],
   "source": [
    "stemmer=nltk.ISRIStemmer()"
   ]
  },
  {
   "cell_type": "code",
   "execution_count": 19,
   "id": "d7c55ac5",
   "metadata": {
    "pycharm": {
     "name": "#%%\n"
    }
   },
   "outputs": [],
   "source": [
    "\n",
    "def stem(text):\n",
    "    out=[]\n",
    "    for i in text:\n",
    "        out.append(stemmer.stem(i))\n",
    "            \n",
    "    return out"
   ]
  },
  {
   "cell_type": "code",
   "execution_count": 20,
   "id": "80d4b3bf",
   "metadata": {
    "pycharm": {
     "name": "#%%\n"
    }
   },
   "outputs": [
    {
     "name": "stdout",
     "output_type": "stream",
     "text": [
      "--------  3.910546064376831  Secounds --------\n"
     ]
    }
   ],
   "source": [
    "start_time=time.time()\n",
    "#data.txt.map(stem)\n",
    "\n",
    "data.txt=data.txt.map(stem)\n",
    "print(\"-------- \",(time.time() - start_time),' Secounds --------')"
   ]
  },
  {
   "cell_type": "code",
   "execution_count": 21,
   "id": "6947cb5a",
   "metadata": {
    "pycharm": {
     "name": "#%%\n"
    }
   },
   "outputs": [],
   "source": [
    "#data.head()"
   ]
  },
  {
   "cell_type": "markdown",
   "id": "9ed473ad",
   "metadata": {
    "pycharm": {
     "name": "#%% md\n"
    }
   },
   "source": [
    "# Lemmatizing data"
   ]
  },
  {
   "cell_type": "markdown",
   "id": "6341508e",
   "metadata": {
    "pycharm": {
     "name": "#%% md\n"
    }
   },
   "source": [
    "Lemmatizing Take more time than stemming"
   ]
  },
  {
   "cell_type": "code",
   "execution_count": 22,
   "id": "d32e7883",
   "metadata": {
    "pycharm": {
     "name": "#%%\n"
    }
   },
   "outputs": [],
   "source": [
    "lemmatizer = lemmatizer.Lemmatizer()"
   ]
  },
  {
   "cell_type": "code",
   "execution_count": 23,
   "id": "72a30325",
   "metadata": {
    "pycharm": {
     "name": "#%%\n"
    }
   },
   "outputs": [],
   "source": [
    "\n",
    "def lemmatize(text):\n",
    "    out=[]\n",
    "    for i in text:\n",
    "        out.append(lemmatizer.lemmatize(i))\n",
    "\n",
    "    return out"
   ]
  },
  {
   "cell_type": "code",
   "execution_count": 24,
   "id": "98f01aff",
   "metadata": {
    "pycharm": {
     "name": "#%%\n"
    }
   },
   "outputs": [
    {
     "name": "stdout",
     "output_type": "stream",
     "text": [
      "--------  0.0001652240753173828  Secounds --------\n"
     ]
    }
   ],
   "source": [
    "start_time=time.time()\n",
    "\n",
    "#data.txt.map(lemmatize).head\n",
    "#data.txt=data.txt.map(lemmatize)\n",
    "\n",
    "print(\"-------- \",(time.time() - start_time),' Secounds --------')"
   ]
  },
  {
   "cell_type": "code",
   "execution_count": 25,
   "id": "d94f1bba",
   "metadata": {
    "pycharm": {
     "name": "#%%\n"
    }
   },
   "outputs": [
    {
     "data": {
      "text/html": [
       "<div>\n",
       "<style scoped>\n",
       "    .dataframe tbody tr th:only-of-type {\n",
       "        vertical-align: middle;\n",
       "    }\n",
       "\n",
       "    .dataframe tbody tr th {\n",
       "        vertical-align: top;\n",
       "    }\n",
       "\n",
       "    .dataframe thead th {\n",
       "        text-align: right;\n",
       "    }\n",
       "</style>\n",
       "<table border=\"1\" class=\"dataframe\">\n",
       "  <thead>\n",
       "    <tr style=\"text-align: right;\">\n",
       "      <th></th>\n",
       "      <th>sentiment</th>\n",
       "      <th>txt</th>\n",
       "    </tr>\n",
       "  </thead>\n",
       "  <tbody>\n",
       "    <tr>\n",
       "      <th>0</th>\n",
       "      <td>1.0</td>\n",
       "      <td>[شاء, الل, هنعمل, حجه]</td>\n",
       "    </tr>\n",
       "    <tr>\n",
       "      <th>1</th>\n",
       "      <td>0.0</td>\n",
       "      <td>[قسم, لله, ان, عرب, كثر, شعب, خلف]</td>\n",
       "    </tr>\n",
       "    <tr>\n",
       "      <th>2</th>\n",
       "      <td>0.0</td>\n",
       "      <td>[هات, ناس, فهم, مثل, بحك, سأل, جرب, لا, سأل, خبر]</td>\n",
       "    </tr>\n",
       "    <tr>\n",
       "      <th>3</th>\n",
       "      <td>0.0</td>\n",
       "      <td>[صرم, برس, اهل]</td>\n",
       "    </tr>\n",
       "    <tr>\n",
       "      <th>4</th>\n",
       "      <td>0.0</td>\n",
       "      <td>[حرم, سخر, ناس]</td>\n",
       "    </tr>\n",
       "  </tbody>\n",
       "</table>\n",
       "</div>"
      ],
      "text/plain": [
       "   sentiment                                                txt\n",
       "0        1.0                             [شاء, الل, هنعمل, حجه]\n",
       "1        0.0                 [قسم, لله, ان, عرب, كثر, شعب, خلف]\n",
       "2        0.0  [هات, ناس, فهم, مثل, بحك, سأل, جرب, لا, سأل, خبر]\n",
       "3        0.0                                    [صرم, برس, اهل]\n",
       "4        0.0                                    [حرم, سخر, ناس]"
      ]
     },
     "execution_count": 25,
     "metadata": {},
     "output_type": "execute_result"
    }
   ],
   "source": [
    "data.head()"
   ]
  },
  {
   "cell_type": "markdown",
   "id": "f43da12e",
   "metadata": {
    "pycharm": {
     "name": "#%% md\n"
    }
   },
   "source": [
    "# Words Joining"
   ]
  },
  {
   "cell_type": "code",
   "execution_count": 26,
   "id": "0eb81789",
   "metadata": {
    "pycharm": {
     "name": "#%%\n"
    }
   },
   "outputs": [],
   "source": [
    "def join_text(txt):\n",
    "    \n",
    "    return \" \".join(txt)"
   ]
  },
  {
   "cell_type": "code",
   "execution_count": 27,
   "id": "da31f267",
   "metadata": {
    "pycharm": {
     "name": "#%%\n"
    }
   },
   "outputs": [],
   "source": [
    "data.txt=data.txt.map(join_text)"
   ]
  },
  {
   "cell_type": "code",
   "execution_count": 28,
   "id": "c4fd9db2",
   "metadata": {
    "pycharm": {
     "name": "#%%\n"
    }
   },
   "outputs": [
    {
     "data": {
      "text/html": [
       "<div>\n",
       "<style scoped>\n",
       "    .dataframe tbody tr th:only-of-type {\n",
       "        vertical-align: middle;\n",
       "    }\n",
       "\n",
       "    .dataframe tbody tr th {\n",
       "        vertical-align: top;\n",
       "    }\n",
       "\n",
       "    .dataframe thead th {\n",
       "        text-align: right;\n",
       "    }\n",
       "</style>\n",
       "<table border=\"1\" class=\"dataframe\">\n",
       "  <thead>\n",
       "    <tr style=\"text-align: right;\">\n",
       "      <th></th>\n",
       "      <th>sentiment</th>\n",
       "      <th>txt</th>\n",
       "    </tr>\n",
       "  </thead>\n",
       "  <tbody>\n",
       "    <tr>\n",
       "      <th>0</th>\n",
       "      <td>1.0</td>\n",
       "      <td>شاء الل هنعمل حجه</td>\n",
       "    </tr>\n",
       "    <tr>\n",
       "      <th>1</th>\n",
       "      <td>0.0</td>\n",
       "      <td>قسم لله ان عرب كثر شعب خلف</td>\n",
       "    </tr>\n",
       "    <tr>\n",
       "      <th>2</th>\n",
       "      <td>0.0</td>\n",
       "      <td>هات ناس فهم مثل بحك سأل جرب لا سأل خبر</td>\n",
       "    </tr>\n",
       "    <tr>\n",
       "      <th>3</th>\n",
       "      <td>0.0</td>\n",
       "      <td>صرم برس اهل</td>\n",
       "    </tr>\n",
       "    <tr>\n",
       "      <th>4</th>\n",
       "      <td>0.0</td>\n",
       "      <td>حرم سخر ناس</td>\n",
       "    </tr>\n",
       "  </tbody>\n",
       "</table>\n",
       "</div>"
      ],
      "text/plain": [
       "   sentiment                                     txt\n",
       "0        1.0                       شاء الل هنعمل حجه\n",
       "1        0.0              قسم لله ان عرب كثر شعب خلف\n",
       "2        0.0  هات ناس فهم مثل بحك سأل جرب لا سأل خبر\n",
       "3        0.0                             صرم برس اهل\n",
       "4        0.0                             حرم سخر ناس"
      ]
     },
     "execution_count": 28,
     "metadata": {},
     "output_type": "execute_result"
    }
   ],
   "source": [
    "data.head()"
   ]
  },
  {
   "cell_type": "code",
   "execution_count": 29,
   "id": "42a74568",
   "metadata": {
    "pycharm": {
     "name": "#%%\n"
    }
   },
   "outputs": [],
   "source": [
    "# convert class labels to  Bad and  Good values\n",
    "\n",
    "def decoder(arr):\n",
    "    out=list()\n",
    "    binary_list=list(arr)\n",
    "    for item in binary_list:\n",
    "        if item == 0:\n",
    "            out.append('bad')\n",
    "        else:\n",
    "            out.append('good')\n",
    "    return out\n",
    "    \n",
    "    "
   ]
  },
  {
   "cell_type": "markdown",
   "id": "773780fa",
   "metadata": {
    "pycharm": {
     "name": "#%% md\n"
    }
   },
   "source": [
    "# Feature Extraction & Model Training"
   ]
  },
  {
   "cell_type": "code",
   "execution_count": 30,
   "id": "7079bc91",
   "metadata": {
    "pycharm": {
     "name": "#%%\n"
    }
   },
   "outputs": [
    {
     "name": "stdout",
     "output_type": "stream",
     "text": [
      "Modules Imported\n"
     ]
    }
   ],
   "source": [
    "import time\n",
    "from sklearn.neighbors import KNeighborsClassifier\n",
    "from sklearn.tree import DecisionTreeClassifier\n",
    "from sklearn.ensemble import RandomForestClassifier\n",
    "from sklearn.linear_model import LogisticRegression, SGDClassifier\n",
    "from sklearn.naive_bayes import MultinomialNB\n",
    "from sklearn.svm import SVC\n",
    "from sklearn.metrics import classification_report, accuracy_score, confusion_matrix,f1_score\n",
    "from sklearn.model_selection import train_test_split\n",
    "from sklearn.feature_extraction.text import CountVectorizer\n",
    "from sklearn.feature_extraction.text import TfidfVectorizer\n",
    "\n",
    "print(\"Modules Imported\")"
   ]
  },
  {
   "cell_type": "markdown",
   "id": "6eace64c",
   "metadata": {
    "pycharm": {
     "name": "#%% md\n"
    }
   },
   "source": [
    "## Feature Extraction"
   ]
  },
  {
   "cell_type": "code",
   "execution_count": 31,
   "id": "db5a6dc4",
   "metadata": {
    "pycharm": {
     "name": "#%%\n"
    }
   },
   "outputs": [],
   "source": [
    "# Feature extaction using Counter\n",
    "\n",
    "bag_of_words_vectorizer=CountVectorizer(binary=False) \n",
    "bag_of_words_count = bag_of_words_vectorizer.fit_transform(data[\"txt\"])"
   ]
  },
  {
   "cell_type": "code",
   "execution_count": 32,
   "id": "df5300d1",
   "metadata": {
    "pycharm": {
     "name": "#%%\n"
    }
   },
   "outputs": [],
   "source": [
    "x_train_count, x_test_count, y_train_count, y_test_count = train_test_split(bag_of_words_count, data['sentiment'], random_state=42, test_size=0.25)"
   ]
  },
  {
   "cell_type": "code",
   "execution_count": 33,
   "id": "0b59ff98",
   "metadata": {
    "pycharm": {
     "name": "#%%\n"
    }
   },
   "outputs": [],
   "source": [
    "#Feature extraction using binary victor\n",
    "\n",
    "bag_of_words_vectorizer_binary=CountVectorizer(binary=True) \n",
    "bag_of_words_binary = bag_of_words_vectorizer_binary.fit_transform(data[\"txt\"])"
   ]
  },
  {
   "cell_type": "code",
   "execution_count": 34,
   "id": "7846aaf5",
   "metadata": {
    "pycharm": {
     "name": "#%%\n"
    }
   },
   "outputs": [],
   "source": [
    "x_train_bin, x_test_bin, y_train_bin, y_test_bin = train_test_split(bag_of_words_binary, data['sentiment'], random_state=42, test_size=0.25)"
   ]
  },
  {
   "cell_type": "code",
   "execution_count": 35,
   "id": "7ccb2175",
   "metadata": {
    "pycharm": {
     "name": "#%%\n"
    },
    "tags": []
   },
   "outputs": [],
   "source": [
    "#Feature extraction using TF-IDF\n",
    "\n",
    "vectorizer = TfidfVectorizer()\n",
    "bag_of_words_tfidf=vectorizer.fit_transform(data[\"txt\"])\n"
   ]
  },
  {
   "cell_type": "code",
   "execution_count": 36,
   "id": "eff887fa",
   "metadata": {
    "pycharm": {
     "name": "#%%\n"
    },
    "tags": []
   },
   "outputs": [],
   "source": [
    "x_train_tfidf, x_test_tfidf, y_train_tfidf, y_test_tfidf = train_test_split(bag_of_words_tfidf, data['sentiment'], random_state=42, test_size=0.25)\n"
   ]
  },
  {
   "cell_type": "markdown",
   "id": "be82e985",
   "metadata": {
    "pycharm": {
     "name": "#%% md\n"
    }
   },
   "source": [
    "## Model Training"
   ]
  },
  {
   "cell_type": "code",
   "execution_count": 37,
   "id": "c7b8a23d",
   "metadata": {
    "pycharm": {
     "name": "#%%\n"
    }
   },
   "outputs": [],
   "source": [
    "def train_models(X_train,Y_train,X_test,Y_test):\n",
    "    \n",
    "    print('---------------------Start Training-------------------------------')\n",
    "    \n",
    "    start_time = time.time()\n",
    "    \n",
    "    # Define models to train\n",
    "    \n",
    "    names = [\"K Nearest Neighbors\", \"Decision Tree\", \"Random Forest\", \"Logistic Regression\", \"SGD Classifier\",\n",
    "             \"Naive Bayes\", \"SVM Linear\"]\n",
    "\n",
    "    classifiers = [\n",
    "        KNeighborsClassifier(),\n",
    "        DecisionTreeClassifier(),\n",
    "        RandomForestClassifier(),\n",
    "        LogisticRegression(solver='lbfgs', max_iter=1000),\n",
    "        SGDClassifier(max_iter = 100),\n",
    "        MultinomialNB(),\n",
    "        SVC(kernel = 'linear')\n",
    "    ]\n",
    "\n",
    "    models = zip(names, classifiers)\n",
    "    \n",
    "    scored_models=dict()\n",
    "\n",
    "    for name, model in models:\n",
    "        nltk_model = model\n",
    "        nltk_model.fit(X_train,Y_train)\n",
    "        pred = model.predict(X_test)\n",
    "        scored_models[name]=[model,pred]\n",
    "        score=f1_score(Y_test, pred)\n",
    "        accuracy = accuracy_score(Y_test,pred) \n",
    "        print(name,\"had Trained and it's Accuracy: \", accuracy,\" and it's Score: \",score )\n",
    "\n",
    "    print('---------------------End of Training-------------------------------')\n",
    "    \n",
    "    print(\"-------- \",(time.time() - start_time),' Secounds --------')\n",
    "    \n",
    "    return scored_models"
   ]
  },
  {
   "cell_type": "markdown",
   "id": "0c281050",
   "metadata": {
    "pycharm": {
     "name": "#%% md\n"
    }
   },
   "source": [
    "## Model Testing"
   ]
  },
  {
   "cell_type": "code",
   "execution_count": 38,
   "id": "02cfbd5a",
   "metadata": {
    "pycharm": {
     "name": "#%%\n"
    }
   },
   "outputs": [],
   "source": [
    "def test_model(model,X_test):\n",
    "    #test a specific model\n",
    "    test=model[0].predict(X_test[1])\n",
    "    print(\"binary values :\",test[:10])\n",
    "    print('''\n",
    "    -------------------------------------\n",
    "    ''')\n",
    "    result=decoder(test)\n",
    "    print('type of test :',type(X_test))\n",
    "    print('''\n",
    "    -------------------------------------\n",
    "    ''')\n",
    "    print('matrix : ',X_test[1])\n",
    "    print('''\n",
    "    -------------------------------------\n",
    "    ''')\n",
    "    print('test matrix shape :',X_test.shape)\n",
    "    print('''\n",
    "    -------------------------------------\n",
    "    ''')\n",
    "    print(\" actual labels :\",result[:10])\n",
    "    print('''\n",
    "    -------------------------------------\n",
    "    ''')\n",
    "    print('bad Tweets = ',result.count('bad'),'good tweets = ', result.count('good'))\n",
    "    print('''\n",
    "    -------------------------------------\n",
    "    ''')"
   ]
  },
  {
   "cell_type": "markdown",
   "id": "bc2ce294",
   "metadata": {
    "pycharm": {
     "name": "#%% md\n"
    }
   },
   "source": [
    "## Confusion Matrix"
   ]
  },
  {
   "cell_type": "code",
   "execution_count": 39,
   "id": "918427df",
   "metadata": {
    "pycharm": {
     "name": "#%%\n"
    }
   },
   "outputs": [],
   "source": [
    "def con_mat(model,Y_test):\n",
    "    # print a confusion matrix\n",
    "    return pd.DataFrame(\n",
    "        confusion_matrix(Y_test, model[1]),\n",
    "        index = [['actual', 'actual'], ['bad', 'good']],\n",
    "        columns = [['predicted', 'predicted'], ['bad', 'good']])"
   ]
  },
  {
   "cell_type": "markdown",
   "id": "b9e72771",
   "metadata": {
    "pycharm": {
     "name": "#%% md\n"
    }
   },
   "source": [
    "### Counting"
   ]
  },
  {
   "cell_type": "code",
   "execution_count": 40,
   "id": "da4383dc",
   "metadata": {
    "pycharm": {
     "name": "#%%\n"
    }
   },
   "outputs": [
    {
     "name": "stdout",
     "output_type": "stream",
     "text": [
      "---------------------Start Training-------------------------------\n",
      "K Nearest Neighbors had Trained and it's Accuracy:  0.6344663088849135  and it's Score:  0.681668686169292\n",
      "Decision Tree had Trained and it's Accuracy:  0.6779964221824687  and it's Score:  0.677547770700637\n",
      "Random Forest had Trained and it's Accuracy:  0.7849334128403895  and it's Score:  0.7848906560636184\n",
      "Logistic Regression had Trained and it's Accuracy:  0.7990459153249851  and it's Score:  0.8003160181710448\n",
      "SGD Classifier had Trained and it's Accuracy:  0.793082886106142  and it's Score:  0.7964013299432818\n",
      "Naive Bayes had Trained and it's Accuracy:  0.8075929238719937  and it's Score:  0.8048387096774194\n",
      "SVM Linear had Trained and it's Accuracy:  0.7871198568872988  and it's Score:  0.7887990534411358\n",
      "---------------------End of Training-------------------------------\n",
      "--------  143.9493658542633  Secounds --------\n"
     ]
    }
   ],
   "source": [
    "counting_models=train_models(X_train=x_train_count,Y_train=y_train_count,X_test=x_test_count,Y_test=y_test_count)"
   ]
  },
  {
   "cell_type": "code",
   "execution_count": 41,
   "id": "12fa84a8",
   "metadata": {
    "pycharm": {
     "name": "#%%\n"
    }
   },
   "outputs": [
    {
     "name": "stdout",
     "output_type": "stream",
     "text": [
      "binary values : [1.]\n",
      "\n",
      "    -------------------------------------\n",
      "    \n",
      "type of test : <class 'scipy.sparse.csr.csr_matrix'>\n",
      "\n",
      "    -------------------------------------\n",
      "    \n",
      "matrix :    (0, 1722)\t1\n",
      "  (0, 2837)\t1\n",
      "  (0, 2982)\t1\n",
      "  (0, 3267)\t1\n",
      "  (0, 3923)\t1\n",
      "  (0, 4683)\t1\n",
      "  (0, 7348)\t1\n",
      "  (0, 8049)\t1\n",
      "  (0, 9234)\t1\n",
      "  (0, 10108)\t2\n",
      "  (0, 10979)\t1\n",
      "  (0, 11452)\t1\n",
      "  (0, 11645)\t1\n",
      "  (0, 13787)\t1\n",
      "  (0, 16400)\t1\n",
      "  (0, 16706)\t1\n",
      "  (0, 19032)\t1\n",
      "  (0, 21864)\t1\n",
      "  (0, 22978)\t1\n",
      "  (0, 24510)\t1\n",
      "  (0, 25743)\t1\n",
      "\n",
      "    -------------------------------------\n",
      "    \n",
      "test matrix shape : (5031, 26364)\n",
      "\n",
      "    -------------------------------------\n",
      "    \n",
      " actual labels : ['good']\n",
      "\n",
      "    -------------------------------------\n",
      "    \n",
      "bad Tweets =  0 good tweets =  1\n",
      "\n",
      "    -------------------------------------\n",
      "    \n"
     ]
    }
   ],
   "source": [
    "test_model(counting_models['Naive Bayes'],x_test_count)"
   ]
  },
  {
   "cell_type": "code",
   "execution_count": 42,
   "id": "ec639cb0",
   "metadata": {
    "pycharm": {
     "name": "#%%\n"
    }
   },
   "outputs": [
    {
     "data": {
      "text/html": [
       "<div>\n",
       "<style scoped>\n",
       "    .dataframe tbody tr th:only-of-type {\n",
       "        vertical-align: middle;\n",
       "    }\n",
       "\n",
       "    .dataframe tbody tr th {\n",
       "        vertical-align: top;\n",
       "    }\n",
       "\n",
       "    .dataframe thead tr th {\n",
       "        text-align: left;\n",
       "    }\n",
       "</style>\n",
       "<table border=\"1\" class=\"dataframe\">\n",
       "  <thead>\n",
       "    <tr>\n",
       "      <th></th>\n",
       "      <th></th>\n",
       "      <th colspan=\"2\" halign=\"left\">predicted</th>\n",
       "    </tr>\n",
       "    <tr>\n",
       "      <th></th>\n",
       "      <th></th>\n",
       "      <th>bad</th>\n",
       "      <th>good</th>\n",
       "    </tr>\n",
       "  </thead>\n",
       "  <tbody>\n",
       "    <tr>\n",
       "      <th rowspan=\"2\" valign=\"top\">actual</th>\n",
       "      <th>bad</th>\n",
       "      <td>2067</td>\n",
       "      <td>454</td>\n",
       "    </tr>\n",
       "    <tr>\n",
       "      <th>good</th>\n",
       "      <td>514</td>\n",
       "      <td>1996</td>\n",
       "    </tr>\n",
       "  </tbody>\n",
       "</table>\n",
       "</div>"
      ],
      "text/plain": [
       "            predicted      \n",
       "                  bad  good\n",
       "actual bad       2067   454\n",
       "       good       514  1996"
      ]
     },
     "execution_count": 42,
     "metadata": {},
     "output_type": "execute_result"
    }
   ],
   "source": [
    "con_mat(counting_models['Naive Bayes'],y_test_count)"
   ]
  },
  {
   "cell_type": "markdown",
   "id": "4434cf6c",
   "metadata": {
    "pycharm": {
     "name": "#%% md\n"
    }
   },
   "source": [
    "### Binary"
   ]
  },
  {
   "cell_type": "code",
   "execution_count": 43,
   "id": "d8682a91",
   "metadata": {
    "pycharm": {
     "name": "#%%\n"
    }
   },
   "outputs": [
    {
     "name": "stdout",
     "output_type": "stream",
     "text": [
      "---------------------Start Training-------------------------------\n",
      "K Nearest Neighbors had Trained and it's Accuracy:  0.6535480023852117  and it's Score:  0.7014899811611577\n",
      "Decision Tree had Trained and it's Accuracy:  0.6853508248857086  and it's Score:  0.6839688560590936\n",
      "Random Forest had Trained and it's Accuracy:  0.7821506658715961  and it's Score:  0.7828843106180665\n",
      "Logistic Regression had Trained and it's Accuracy:  0.7962631683561916  and it's Score:  0.7969090548840895\n",
      "SGD Classifier had Trained and it's Accuracy:  0.7871198568872988  and it's Score:  0.7865258122383895\n",
      "Naive Bayes had Trained and it's Accuracy:  0.808189226793878  and it's Score:  0.8068068068068067\n",
      "SVM Linear had Trained and it's Accuracy:  0.7827469687934804  and it's Score:  0.7865651239992189\n",
      "---------------------End of Training-------------------------------\n",
      "--------  124.3071813583374  Secounds --------\n"
     ]
    }
   ],
   "source": [
    "binary_models=train_models(X_train=x_train_bin,Y_train=y_train_bin,X_test=x_test_bin,Y_test=y_test_bin)"
   ]
  },
  {
   "cell_type": "code",
   "execution_count": 44,
   "id": "05235578",
   "metadata": {
    "pycharm": {
     "name": "#%%\n"
    }
   },
   "outputs": [
    {
     "name": "stdout",
     "output_type": "stream",
     "text": [
      "binary values : [1.]\n",
      "\n",
      "    -------------------------------------\n",
      "    \n",
      "type of test : <class 'scipy.sparse.csr.csr_matrix'>\n",
      "\n",
      "    -------------------------------------\n",
      "    \n",
      "matrix :    (0, 1722)\t1\n",
      "  (0, 2837)\t1\n",
      "  (0, 2982)\t1\n",
      "  (0, 3267)\t1\n",
      "  (0, 3923)\t1\n",
      "  (0, 4683)\t1\n",
      "  (0, 7348)\t1\n",
      "  (0, 8049)\t1\n",
      "  (0, 9234)\t1\n",
      "  (0, 10108)\t1\n",
      "  (0, 10979)\t1\n",
      "  (0, 11452)\t1\n",
      "  (0, 11645)\t1\n",
      "  (0, 13787)\t1\n",
      "  (0, 16400)\t1\n",
      "  (0, 16706)\t1\n",
      "  (0, 19032)\t1\n",
      "  (0, 21864)\t1\n",
      "  (0, 22978)\t1\n",
      "  (0, 24510)\t1\n",
      "  (0, 25743)\t1\n",
      "\n",
      "    -------------------------------------\n",
      "    \n",
      "test matrix shape : (5031, 26364)\n",
      "\n",
      "    -------------------------------------\n",
      "    \n",
      " actual labels : ['good']\n",
      "\n",
      "    -------------------------------------\n",
      "    \n",
      "bad Tweets =  0 good tweets =  1\n",
      "\n",
      "    -------------------------------------\n",
      "    \n"
     ]
    }
   ],
   "source": [
    "test_model(binary_models['Naive Bayes'],x_test_bin)"
   ]
  },
  {
   "cell_type": "code",
   "execution_count": 45,
   "id": "7b25c619",
   "metadata": {
    "pycharm": {
     "name": "#%%\n"
    }
   },
   "outputs": [
    {
     "data": {
      "text/html": [
       "<div>\n",
       "<style scoped>\n",
       "    .dataframe tbody tr th:only-of-type {\n",
       "        vertical-align: middle;\n",
       "    }\n",
       "\n",
       "    .dataframe tbody tr th {\n",
       "        vertical-align: top;\n",
       "    }\n",
       "\n",
       "    .dataframe thead tr th {\n",
       "        text-align: left;\n",
       "    }\n",
       "</style>\n",
       "<table border=\"1\" class=\"dataframe\">\n",
       "  <thead>\n",
       "    <tr>\n",
       "      <th></th>\n",
       "      <th></th>\n",
       "      <th colspan=\"2\" halign=\"left\">predicted</th>\n",
       "    </tr>\n",
       "    <tr>\n",
       "      <th></th>\n",
       "      <th></th>\n",
       "      <th>bad</th>\n",
       "      <th>good</th>\n",
       "    </tr>\n",
       "  </thead>\n",
       "  <tbody>\n",
       "    <tr>\n",
       "      <th rowspan=\"2\" valign=\"top\">actual</th>\n",
       "      <th>bad</th>\n",
       "      <td>2051</td>\n",
       "      <td>470</td>\n",
       "    </tr>\n",
       "    <tr>\n",
       "      <th>good</th>\n",
       "      <td>495</td>\n",
       "      <td>2015</td>\n",
       "    </tr>\n",
       "  </tbody>\n",
       "</table>\n",
       "</div>"
      ],
      "text/plain": [
       "            predicted      \n",
       "                  bad  good\n",
       "actual bad       2051   470\n",
       "       good       495  2015"
      ]
     },
     "execution_count": 45,
     "metadata": {},
     "output_type": "execute_result"
    }
   ],
   "source": [
    "con_mat(binary_models['Naive Bayes'],y_test_bin)"
   ]
  },
  {
   "cell_type": "markdown",
   "id": "2de43b15",
   "metadata": {
    "pycharm": {
     "name": "#%% md\n"
    }
   },
   "source": [
    "### TF-IDF"
   ]
  },
  {
   "cell_type": "code",
   "execution_count": 46,
   "id": "5a0c199f",
   "metadata": {
    "pycharm": {
     "name": "#%%\n"
    }
   },
   "outputs": [
    {
     "name": "stdout",
     "output_type": "stream",
     "text": [
      "---------------------Start Training-------------------------------\n",
      "K Nearest Neighbors had Trained and it's Accuracy:  0.516994633273703  and it's Score:  0.5246478873239437\n",
      "Decision Tree had Trained and it's Accuracy:  0.6795865633074936  and it's Score:  0.6761751707513057\n",
      "Random Forest had Trained and it's Accuracy:  0.7817531305903399  and it's Score:  0.7779126213592233\n",
      "Logistic Regression had Trained and it's Accuracy:  0.8073941562313656  and it's Score:  0.8047551883941164\n",
      "SGD Classifier had Trained and it's Accuracy:  0.8109719737626714  and it's Score:  0.8062741902627826\n",
      "Naive Bayes had Trained and it's Accuracy:  0.8207115881534486  and it's Score:  0.8218799368088467\n",
      "SVM Linear had Trained and it's Accuracy:  0.804611409262572  and it's Score:  0.8027292795504716\n",
      "---------------------End of Training-------------------------------\n",
      "--------  76.32120943069458  Secounds --------\n"
     ]
    }
   ],
   "source": [
    "tfidf_models=train_models(X_train=x_train_tfidf,Y_train=y_train_tfidf,X_test=x_test_tfidf,Y_test=y_test_tfidf)"
   ]
  },
  {
   "cell_type": "code",
   "execution_count": 47,
   "id": "2cf0a3f4",
   "metadata": {
    "pycharm": {
     "name": "#%%\n"
    }
   },
   "outputs": [
    {
     "name": "stdout",
     "output_type": "stream",
     "text": [
      "binary values : [1.]\n",
      "\n",
      "    -------------------------------------\n",
      "    \n",
      "type of test : <class 'scipy.sparse.csr.csr_matrix'>\n",
      "\n",
      "    -------------------------------------\n",
      "    \n",
      "matrix :    (0, 1722)\t0.20717938458819832\n",
      "  (0, 2837)\t0.29545162715649076\n",
      "  (0, 2982)\t0.1995371340950331\n",
      "  (0, 3267)\t0.1714275913345165\n",
      "  (0, 3923)\t0.16563322745814968\n",
      "  (0, 4683)\t0.22921770841588138\n",
      "  (0, 7348)\t0.1435546184138506\n",
      "  (0, 8049)\t0.1817641666610479\n",
      "  (0, 9234)\t0.20654670334082717\n",
      "  (0, 10108)\t0.20227709592114218\n",
      "  (0, 10979)\t0.12689189405816081\n",
      "  (0, 11452)\t0.1294064019785209\n",
      "  (0, 11645)\t0.13294388185263173\n",
      "  (0, 13787)\t0.13052605908760084\n",
      "  (0, 16400)\t0.11623471159652991\n",
      "  (0, 16706)\t0.31597375486081364\n",
      "  (0, 19032)\t0.3244629770211133\n",
      "  (0, 21864)\t0.28112241497938967\n",
      "  (0, 22978)\t0.25208811485484334\n",
      "  (0, 24510)\t0.26076130724574786\n",
      "  (0, 25743)\t0.2943198782626292\n",
      "\n",
      "    -------------------------------------\n",
      "    \n",
      "test matrix shape : (5031, 26364)\n",
      "\n",
      "    -------------------------------------\n",
      "    \n",
      " actual labels : ['good']\n",
      "\n",
      "    -------------------------------------\n",
      "    \n",
      "bad Tweets =  0 good tweets =  1\n",
      "\n",
      "    -------------------------------------\n",
      "    \n"
     ]
    }
   ],
   "source": [
    "test_model(tfidf_models['Naive Bayes'],x_test_tfidf)"
   ]
  },
  {
   "cell_type": "code",
   "execution_count": 48,
   "id": "206d6bb1",
   "metadata": {
    "pycharm": {
     "name": "#%%\n"
    }
   },
   "outputs": [
    {
     "data": {
      "text/html": [
       "<div>\n",
       "<style scoped>\n",
       "    .dataframe tbody tr th:only-of-type {\n",
       "        vertical-align: middle;\n",
       "    }\n",
       "\n",
       "    .dataframe tbody tr th {\n",
       "        vertical-align: top;\n",
       "    }\n",
       "\n",
       "    .dataframe thead tr th {\n",
       "        text-align: left;\n",
       "    }\n",
       "</style>\n",
       "<table border=\"1\" class=\"dataframe\">\n",
       "  <thead>\n",
       "    <tr>\n",
       "      <th></th>\n",
       "      <th></th>\n",
       "      <th colspan=\"2\" halign=\"left\">predicted</th>\n",
       "    </tr>\n",
       "    <tr>\n",
       "      <th></th>\n",
       "      <th></th>\n",
       "      <th>bad</th>\n",
       "      <th>good</th>\n",
       "    </tr>\n",
       "  </thead>\n",
       "  <tbody>\n",
       "    <tr>\n",
       "      <th rowspan=\"2\" valign=\"top\">actual</th>\n",
       "      <th>bad</th>\n",
       "      <td>2048</td>\n",
       "      <td>473</td>\n",
       "    </tr>\n",
       "    <tr>\n",
       "      <th>good</th>\n",
       "      <td>429</td>\n",
       "      <td>2081</td>\n",
       "    </tr>\n",
       "  </tbody>\n",
       "</table>\n",
       "</div>"
      ],
      "text/plain": [
       "            predicted      \n",
       "                  bad  good\n",
       "actual bad       2048   473\n",
       "       good       429  2081"
      ]
     },
     "execution_count": 48,
     "metadata": {},
     "output_type": "execute_result"
    }
   ],
   "source": [
    "con_mat(tfidf_models['Naive Bayes'],y_test_tfidf)"
   ]
  },
  {
   "cell_type": "markdown",
   "id": "60f04238",
   "metadata": {
    "pycharm": {
     "name": "#%% md\n"
    }
   },
   "source": [
    "# ____________________________________________________________"
   ]
  },
  {
   "cell_type": "code",
   "execution_count": 49,
   "id": "6ba6ba26",
   "metadata": {
    "pycharm": {
     "name": "#%%\n"
    }
   },
   "outputs": [],
   "source": [
    "# save the model\n",
    "#import pickle\n",
    "\n",
    "#filename = 'Naive Bayes model.sav'\n",
    "#pickle.dump(scored_models_tfidf['Naive Bayes'][0], open(filename, 'wb'))\n",
    "#pickle.dump(vectorizer, open(\"vectorizer.pickle\", \"wb\")) \n",
    "#load model from disk \n",
    "#loaded_model = pickle.load(open(filename, 'rb'))\n",
    "#result = loaded_model.score(x_test_tfidf, y_test_tfidf)\n",
    "#print(result)"
   ]
  },
  {
   "cell_type": "markdown",
   "id": "3a4b8966-5a6a-439b-95d1-53be8fbb7f70",
   "metadata": {
    "pycharm": {
     "name": "#%% md\n"
    }
   },
   "source": [
    "# Deploy Model Locally"
   ]
  },
  {
   "cell_type": "code",
   "execution_count": 53,
   "id": "927124a4-009c-4f73-9a0e-e9b383ac43d5",
   "metadata": {
    "pycharm": {
     "name": "#%%\n"
    }
   },
   "outputs": [],
   "source": [
    "import pickle\n",
    "\n",
    "def predict_txt(inp):\n",
    "    victorizer=pickle.load(open(\"models/vectorizer.pickle\", 'rb'))\n",
    "    file_name = open('models/Naive_Bayes_model.sav', 'rb')\n",
    "    loaded_model = pickle.load(file_name)\n",
    "    result = loaded_model.predict(victorizer.transform([inp]))\n",
    "    print(victorizer.transform([inp]))\n",
    "    print('---------------------------------')\n",
    "    print(decoder(result))\n",
    "\n",
    "\n"
   ]
  },
  {
   "cell_type": "code",
   "execution_count": 54,
   "id": "b1d93bea",
   "metadata": {
    "pycharm": {
     "name": "#%%\n"
    }
   },
   "outputs": [
    {
     "name": "stdout",
     "output_type": "stream",
     "text": [
      "  (0, 15539)\t1.0\n",
      "---------------------------------\n",
      "['bad']\n"
     ]
    }
   ],
   "source": [
    "predict_txt('فتي احمق')"
   ]
  },
  {
   "cell_type": "code",
   "execution_count": 55,
   "id": "ab9a583e",
   "metadata": {
    "pycharm": {
     "name": "#%%\n"
    }
   },
   "outputs": [
    {
     "name": "stdout",
     "output_type": "stream",
     "text": [
      "  (0, 15538)\t0.8039580431345329\n",
      "  (0, 13168)\t0.594686022098462\n",
      "---------------------------------\n",
      "['good']\n"
     ]
    }
   ],
   "source": [
    "predict_txt('فتى طيب')"
   ]
  },
  {
   "cell_type": "code",
   "execution_count": null,
   "id": "19008fe1",
   "metadata": {
    "pycharm": {
     "name": "#%%\n"
    }
   },
   "outputs": [],
   "source": [
    "#  Conclusion"
   ]
  },
  {
   "cell_type": "code",
   "execution_count": 57,
   "id": "ef959611",
   "metadata": {
    "pycharm": {
     "name": "#%%\n"
    }
   },
   "outputs": [
    {
     "name": "stdout",
     "output_type": "stream",
     "text": [
      "----------------------------------------- Counting Victorizer Report -----------------------------\n",
      "              precision    recall  f1-score   support\n",
      "\n",
      "         0.0       0.80      0.82      0.81      2521\n",
      "         1.0       0.81      0.80      0.80      2510\n",
      "\n",
      "    accuracy                           0.81      5031\n",
      "   macro avg       0.81      0.81      0.81      5031\n",
      "weighted avg       0.81      0.81      0.81      5031\n",
      "\n",
      "----------------------------------------- Binary Victorizer Report -----------------------------\n",
      "              precision    recall  f1-score   support\n",
      "\n",
      "         0.0       0.81      0.81      0.81      2521\n",
      "         1.0       0.81      0.80      0.81      2510\n",
      "\n",
      "    accuracy                           0.81      5031\n",
      "   macro avg       0.81      0.81      0.81      5031\n",
      "weighted avg       0.81      0.81      0.81      5031\n",
      "\n",
      "----------------------------------------- TF-IDF Victorizer Report -----------------------------\n",
      "              precision    recall  f1-score   support\n",
      "\n",
      "         0.0       0.83      0.81      0.82      2521\n",
      "         1.0       0.81      0.83      0.82      2510\n",
      "\n",
      "    accuracy                           0.82      5031\n",
      "   macro avg       0.82      0.82      0.82      5031\n",
      "weighted avg       0.82      0.82      0.82      5031\n",
      "\n"
     ]
    }
   ],
   "source": [
    "print(\"----------------------------------------- Counting Victorizer Report -----------------------------\")\n",
    "\n",
    "print(classification_report(y_test_count, counting_models['Naive Bayes'][1]))\n",
    "\n",
    "\n",
    "print(\"----------------------------------------- Binary Victorizer Report -----------------------------\")\n",
    "\n",
    "print(classification_report(y_test_bin, binary_models['Naive Bayes'][1]))\n",
    "\n",
    "\n",
    "print(\"----------------------------------------- TF-IDF Victorizer Report -----------------------------\")\n",
    "\n",
    "print(classification_report(y_test_tfidf, tfidf_models['Naive Bayes'][1]))\n",
    "\n"
   ]
  },
  {
   "cell_type": "markdown",
   "id": "abda73d5",
   "metadata": {
    "pycharm": {
     "name": "#%% md\n"
    }
   },
   "source": [
    "### As we can see in the previous cell execution output \n",
    "\n",
    "- the best Victorizer for our dataset is TF-IDF \n",
    "- the best model performance for our classification task was Naive Bayes\n"
   ]
  },
  {
   "cell_type": "markdown",
   "source": [
    "# Morphological Analysis"
   ],
   "metadata": {
    "collapsed": false,
    "pycharm": {
     "name": "#%% md\n"
    }
   }
  },
  {
   "cell_type": "code",
   "execution_count": null,
   "outputs": [],
   "source": [
    "def morph_analysis_txt( inp):\n",
    "    \n",
    "    \"\"\"\n",
    "    This Function is used to morph the text\n",
    "    :param inp: the text that will be morph (string)\n",
    "    :used by: main.py\n",
    "    :uses: tokenize_text()\n",
    "    :return: the morph text (list)\n",
    "    \"\"\"\n",
    "    text = inp\n",
    "    print(text)\n",
    "\n",
    "    analyzer = analex.Analex()\n",
    "    analyzer.set_debug(False)\n",
    "    result = analyzer.check_text(text)\n",
    "    word_list=[]\n",
    "    for word in result:\n",
    "       for description in word:\n",
    "           desc_list= [description.word, description.vocalized, description.type, description.affix, description.root,\n",
    "                       description.tags, description.stem, description.affix_key, description.type,\n",
    "                       description.tag_original_number, description.tag_original_gender, description.word]\n",
    "           word_list.append(desc_list)\n",
    "\n",
    "    return pd.DataFrame(word_list)"
   ],
   "metadata": {
    "collapsed": false,
    "pycharm": {
     "name": "#%%\n"
    }
   }
  },
  {
   "cell_type": "code",
   "execution_count": 107,
   "id": "307b7ed0",
   "metadata": {
    "pycharm": {
     "name": "#%%\n"
    }
   },
   "outputs": [],
   "source": [
    "def morph_analysis_txt( inp):\n",
    "    \n",
    "    \"\"\"\n",
    "    This Function is used to morph the text\n",
    "    :param inp: the text that will be morph (string)\n",
    "    :used by: main.py\n",
    "    :uses: tokenize_text()\n",
    "    :return: the morph text (list)\n",
    "    \"\"\"\n",
    "    text = inp\n",
    "    print(text)\n",
    "\n",
    "    analyzer = analex.Analex()\n",
    "    analyzer.set_debug(False)\n",
    "    result = analyzer.check_text(text)\n",
    "    word_list=[]\n",
    "    for word in result:\n",
    "       for description in word:\n",
    "           desc_list= [description.word, description.vocalized, description.type, description.affix, description.root,\n",
    "                       description.tags, description.stem, description.affix_key, description.type,\n",
    "                       description.tag_original_number, description.tag_original_gender, description.word]\n",
    "           word_list.append(desc_list)\n",
    "\n",
    "    return pd.DataFrame(word_list)"
   ]
  },
  {
   "cell_type": "code",
   "execution_count": 108,
   "id": "e5103517",
   "metadata": {
    "pycharm": {
     "name": "#%%\n"
    }
   },
   "outputs": [
    {
     "name": "stdout",
     "output_type": "stream",
     "text": [
      "السلام عليكم و رحمة الله و بركاته\n"
     ]
    }
   ],
   "source": [
    "morph_analysis=morph_analysis_txt(\"السلام عليكم و رحمة الله و بركاته\")"
   ]
  },
  {
   "cell_type": "code",
   "execution_count": 108,
   "id": "2807a417",
   "metadata": {
    "pycharm": {
     "name": "#%%\n"
    }
   },
   "outputs": [],
   "source": []
  },
  {
   "cell_type": "code",
   "execution_count": 109,
   "id": "b43a4c8d",
   "metadata": {
    "pycharm": {
     "name": "#%%\n"
    }
   },
   "outputs": [
    {
     "data": {
      "text/plain": [
       "(100, 12)"
      ]
     },
     "execution_count": 109,
     "metadata": {},
     "output_type": "execute_result"
    }
   ],
   "source": [
    "morph_analysis.shape"
   ]
  },
  {
   "cell_type": "code",
   "execution_count": 110,
   "id": "4ed20145",
   "metadata": {
    "pycharm": {
     "name": "#%%\n"
    }
   },
   "outputs": [
    {
     "data": {
      "text/html": [
       "<div>\n",
       "<style scoped>\n",
       "    .dataframe tbody tr th:only-of-type {\n",
       "        vertical-align: middle;\n",
       "    }\n",
       "\n",
       "    .dataframe tbody tr th {\n",
       "        vertical-align: top;\n",
       "    }\n",
       "\n",
       "    .dataframe thead th {\n",
       "        text-align: right;\n",
       "    }\n",
       "</style>\n",
       "<table border=\"1\" class=\"dataframe\">\n",
       "  <thead>\n",
       "    <tr style=\"text-align: right;\">\n",
       "      <th></th>\n",
       "      <th>0</th>\n",
       "      <th>1</th>\n",
       "      <th>2</th>\n",
       "      <th>3</th>\n",
       "      <th>4</th>\n",
       "      <th>5</th>\n",
       "      <th>6</th>\n",
       "      <th>7</th>\n",
       "      <th>8</th>\n",
       "      <th>9</th>\n",
       "      <th>10</th>\n",
       "      <th>11</th>\n",
       "    </tr>\n",
       "  </thead>\n",
       "  <tbody>\n",
       "    <tr>\n",
       "      <th>0</th>\n",
       "      <td>السلام</td>\n",
       "      <td>السُّلَّامَ</td>\n",
       "      <td>Noun:اسم فاعل</td>\n",
       "      <td>ال--َ-</td>\n",
       "      <td>سلم</td>\n",
       "      <td>تعريف:منصوب:متحرك:ينون::</td>\n",
       "      <td>سلام</td>\n",
       "      <td>ال--َ-|السلام</td>\n",
       "      <td>Noun:اسم فاعل</td>\n",
       "      <td>جمع تكسير</td>\n",
       "      <td></td>\n",
       "      <td>السلام</td>\n",
       "    </tr>\n",
       "    <tr>\n",
       "      <th>1</th>\n",
       "      <td>السلام</td>\n",
       "      <td>السُّلَّامُ</td>\n",
       "      <td>Noun:اسم فاعل</td>\n",
       "      <td>ال--ُ-</td>\n",
       "      <td>سلم</td>\n",
       "      <td>تعريف:مرفوع:متحرك:ينون::</td>\n",
       "      <td>سلام</td>\n",
       "      <td>ال--ُ-|السلام</td>\n",
       "      <td>Noun:اسم فاعل</td>\n",
       "      <td>جمع تكسير</td>\n",
       "      <td></td>\n",
       "      <td>السلام</td>\n",
       "    </tr>\n",
       "    <tr>\n",
       "      <th>2</th>\n",
       "      <td>السلام</td>\n",
       "      <td>السُّلَّامِ</td>\n",
       "      <td>Noun:اسم فاعل</td>\n",
       "      <td>ال--ِ-</td>\n",
       "      <td>سلم</td>\n",
       "      <td>تعريف:مجرور:متحرك:ينون::</td>\n",
       "      <td>سلام</td>\n",
       "      <td>ال--ِ-|السلام</td>\n",
       "      <td>Noun:اسم فاعل</td>\n",
       "      <td>جمع تكسير</td>\n",
       "      <td></td>\n",
       "      <td>السلام</td>\n",
       "    </tr>\n",
       "    <tr>\n",
       "      <th>3</th>\n",
       "      <td>السلام</td>\n",
       "      <td>السِّلَامَ</td>\n",
       "      <td>Noun:جامد</td>\n",
       "      <td>ال--َ-</td>\n",
       "      <td>سلم</td>\n",
       "      <td>تعريف:منصوب:متحرك:ينون::</td>\n",
       "      <td>سلام</td>\n",
       "      <td>ال--َ-|السلام</td>\n",
       "      <td>Noun:جامد</td>\n",
       "      <td>جمع تكسير</td>\n",
       "      <td>مؤنث</td>\n",
       "      <td>السلام</td>\n",
       "    </tr>\n",
       "    <tr>\n",
       "      <th>4</th>\n",
       "      <td>السلام</td>\n",
       "      <td>السِّلَامُ</td>\n",
       "      <td>Noun:جامد</td>\n",
       "      <td>ال--ُ-</td>\n",
       "      <td>سلم</td>\n",
       "      <td>تعريف:مرفوع:متحرك:ينون::</td>\n",
       "      <td>سلام</td>\n",
       "      <td>ال--ُ-|السلام</td>\n",
       "      <td>Noun:جامد</td>\n",
       "      <td>جمع تكسير</td>\n",
       "      <td>مؤنث</td>\n",
       "      <td>السلام</td>\n",
       "    </tr>\n",
       "    <tr>\n",
       "      <th>...</th>\n",
       "      <td>...</td>\n",
       "      <td>...</td>\n",
       "      <td>...</td>\n",
       "      <td>...</td>\n",
       "      <td>...</td>\n",
       "      <td>...</td>\n",
       "      <td>...</td>\n",
       "      <td>...</td>\n",
       "      <td>...</td>\n",
       "      <td>...</td>\n",
       "      <td>...</td>\n",
       "      <td>...</td>\n",
       "    </tr>\n",
       "    <tr>\n",
       "      <th>95</th>\n",
       "      <td>بركاته</td>\n",
       "      <td>بِرْكَاتِهِ</td>\n",
       "      <td>Noun:جامد</td>\n",
       "      <td>--َاتِ-هُ</td>\n",
       "      <td>بركة</td>\n",
       "      <td>مضاف:جمع مؤنث سالم:متحرك:ينون:جمع:مؤنث:مجرور::</td>\n",
       "      <td>بركة</td>\n",
       "      <td>--َاتِ-هُ|بركاته</td>\n",
       "      <td>Noun:جامد</td>\n",
       "      <td>مفرد</td>\n",
       "      <td>مؤنث</td>\n",
       "      <td>بركاته</td>\n",
       "    </tr>\n",
       "    <tr>\n",
       "      <th>96</th>\n",
       "      <td>بركاته</td>\n",
       "      <td>بِرْكَاتِهِ</td>\n",
       "      <td>Noun:جامد</td>\n",
       "      <td>--َاتِ-هُ</td>\n",
       "      <td>بركة</td>\n",
       "      <td>مضاف:جمع مؤنث سالم:متحرك:ينون:جمع:مؤنث:منصوب::</td>\n",
       "      <td>بركة</td>\n",
       "      <td>--َاتِ-هُ|بركاته</td>\n",
       "      <td>Noun:جامد</td>\n",
       "      <td>مفرد</td>\n",
       "      <td>مؤنث</td>\n",
       "      <td>بركاته</td>\n",
       "    </tr>\n",
       "    <tr>\n",
       "      <th>97</th>\n",
       "      <td>بركاته</td>\n",
       "      <td>بِرْكَاتُهِ</td>\n",
       "      <td>Noun:جامد</td>\n",
       "      <td>--َاتُ-هِ</td>\n",
       "      <td>بركة</td>\n",
       "      <td>مضاف:جمع مؤنث سالم:مرفوع:متحرك:ينون:جمع:مؤنث::</td>\n",
       "      <td>بركة</td>\n",
       "      <td>--َاتُ-هِ|بركاته</td>\n",
       "      <td>Noun:جامد</td>\n",
       "      <td>مفرد</td>\n",
       "      <td>مؤنث</td>\n",
       "      <td>بركاته</td>\n",
       "    </tr>\n",
       "    <tr>\n",
       "      <th>98</th>\n",
       "      <td>بركاته</td>\n",
       "      <td>بِرْكَاتِهِ</td>\n",
       "      <td>Noun:جامد</td>\n",
       "      <td>--َاتِ-هِ</td>\n",
       "      <td>بركة</td>\n",
       "      <td>مضاف:جمع مؤنث سالم:متحرك:ينون:جمع:مؤنث:مجرور::</td>\n",
       "      <td>بركة</td>\n",
       "      <td>--َاتِ-هِ|بركاته</td>\n",
       "      <td>Noun:جامد</td>\n",
       "      <td>مفرد</td>\n",
       "      <td>مؤنث</td>\n",
       "      <td>بركاته</td>\n",
       "    </tr>\n",
       "    <tr>\n",
       "      <th>99</th>\n",
       "      <td>بركاته</td>\n",
       "      <td>بِرْكَاتِهِ</td>\n",
       "      <td>Noun:جامد</td>\n",
       "      <td>--َاتِ-هِ</td>\n",
       "      <td>بركة</td>\n",
       "      <td>مضاف:جمع مؤنث سالم:متحرك:ينون:جمع:مؤنث:منصوب::</td>\n",
       "      <td>بركة</td>\n",
       "      <td>--َاتِ-هِ|بركاته</td>\n",
       "      <td>Noun:جامد</td>\n",
       "      <td>مفرد</td>\n",
       "      <td>مؤنث</td>\n",
       "      <td>بركاته</td>\n",
       "    </tr>\n",
       "  </tbody>\n",
       "</table>\n",
       "<p>100 rows × 12 columns</p>\n",
       "</div>"
      ],
      "text/plain": [
       "        0            1              2          3     4   \\\n",
       "0   السلام  السُّلَّامَ  Noun:اسم فاعل     ال--َ-   سلم   \n",
       "1   السلام  السُّلَّامُ  Noun:اسم فاعل     ال--ُ-   سلم   \n",
       "2   السلام  السُّلَّامِ  Noun:اسم فاعل     ال--ِ-   سلم   \n",
       "3   السلام   السِّلَامَ      Noun:جامد     ال--َ-   سلم   \n",
       "4   السلام   السِّلَامُ      Noun:جامد     ال--ُ-   سلم   \n",
       "..     ...          ...            ...        ...   ...   \n",
       "95  بركاته  بِرْكَاتِهِ      Noun:جامد  --َاتِ-هُ  بركة   \n",
       "96  بركاته  بِرْكَاتِهِ      Noun:جامد  --َاتِ-هُ  بركة   \n",
       "97  بركاته  بِرْكَاتُهِ      Noun:جامد  --َاتُ-هِ  بركة   \n",
       "98  بركاته  بِرْكَاتِهِ      Noun:جامد  --َاتِ-هِ  بركة   \n",
       "99  بركاته  بِرْكَاتِهِ      Noun:جامد  --َاتِ-هِ  بركة   \n",
       "\n",
       "                                                5     6                 7   \\\n",
       "0                         تعريف:منصوب:متحرك:ينون::  سلام     ال--َ-|السلام   \n",
       "1                         تعريف:مرفوع:متحرك:ينون::  سلام     ال--ُ-|السلام   \n",
       "2                         تعريف:مجرور:متحرك:ينون::  سلام     ال--ِ-|السلام   \n",
       "3                         تعريف:منصوب:متحرك:ينون::  سلام     ال--َ-|السلام   \n",
       "4                         تعريف:مرفوع:متحرك:ينون::  سلام     ال--ُ-|السلام   \n",
       "..                                             ...   ...               ...   \n",
       "95  مضاف:جمع مؤنث سالم:متحرك:ينون:جمع:مؤنث:مجرور::  بركة  --َاتِ-هُ|بركاته   \n",
       "96  مضاف:جمع مؤنث سالم:متحرك:ينون:جمع:مؤنث:منصوب::  بركة  --َاتِ-هُ|بركاته   \n",
       "97  مضاف:جمع مؤنث سالم:مرفوع:متحرك:ينون:جمع:مؤنث::  بركة  --َاتُ-هِ|بركاته   \n",
       "98  مضاف:جمع مؤنث سالم:متحرك:ينون:جمع:مؤنث:مجرور::  بركة  --َاتِ-هِ|بركاته   \n",
       "99  مضاف:جمع مؤنث سالم:متحرك:ينون:جمع:مؤنث:منصوب::  بركة  --َاتِ-هِ|بركاته   \n",
       "\n",
       "               8          9     10      11  \n",
       "0   Noun:اسم فاعل  جمع تكسير        السلام  \n",
       "1   Noun:اسم فاعل  جمع تكسير        السلام  \n",
       "2   Noun:اسم فاعل  جمع تكسير        السلام  \n",
       "3       Noun:جامد  جمع تكسير  مؤنث  السلام  \n",
       "4       Noun:جامد  جمع تكسير  مؤنث  السلام  \n",
       "..            ...        ...   ...     ...  \n",
       "95      Noun:جامد       مفرد  مؤنث  بركاته  \n",
       "96      Noun:جامد       مفرد  مؤنث  بركاته  \n",
       "97      Noun:جامد       مفرد  مؤنث  بركاته  \n",
       "98      Noun:جامد       مفرد  مؤنث  بركاته  \n",
       "99      Noun:جامد       مفرد  مؤنث  بركاته  \n",
       "\n",
       "[100 rows x 12 columns]"
      ]
     },
     "execution_count": 110,
     "metadata": {},
     "output_type": "execute_result"
    }
   ],
   "source": [
    "morph_analysis.head(100)"
   ]
  },
  {
   "cell_type": "code",
   "execution_count": 78,
   "id": "7a104f6a",
   "metadata": {
    "pycharm": {
     "name": "#%%\n"
    }
   },
   "outputs": [],
   "source": []
  },
  {
   "cell_type": "code",
   "execution_count": 80,
   "id": "0147f7e3",
   "metadata": {
    "pycharm": {
     "name": "#%%\n"
    }
   },
   "outputs": [],
   "source": []
  },
  {
   "cell_type": "code",
   "execution_count": 77,
   "id": "4a4c13b6",
   "metadata": {
    "pycharm": {
     "name": "#%%\n"
    }
   },
   "outputs": [],
   "source": []
  },
  {
   "cell_type": "code",
   "execution_count": 77,
   "id": "b019aa79",
   "metadata": {
    "pycharm": {
     "name": "#%%\n"
    }
   },
   "outputs": [],
   "source": []
  },
  {
   "cell_type": "code",
   "execution_count": 77,
   "id": "9cf079d9",
   "metadata": {
    "pycharm": {
     "name": "#%%\n"
    }
   },
   "outputs": [],
   "source": []
  },
  {
   "cell_type": "code",
   "execution_count": 78,
   "id": "a73fb59a",
   "metadata": {
    "pycharm": {
     "name": "#%%\n"
    }
   },
   "outputs": [],
   "source": []
  },
  {
   "cell_type": "code",
   "execution_count": 78,
   "id": "4b037e04",
   "metadata": {
    "pycharm": {
     "name": "#%%\n"
    }
   },
   "outputs": [],
   "source": []
  },
  {
   "cell_type": "code",
   "execution_count": null,
   "id": "3da52522",
   "metadata": {
    "pycharm": {
     "name": "#%%\n"
    }
   },
   "outputs": [],
   "source": []
  }
 ],
 "metadata": {
  "kernelspec": {
   "display_name": "Python 3 (ipykernel)",
   "language": "python",
   "name": "python3"
  },
  "language_info": {
   "codemirror_mode": {
    "name": "ipython",
    "version": 3
   },
   "file_extension": ".py",
   "mimetype": "text/x-python",
   "name": "python",
   "nbconvert_exporter": "python",
   "pygments_lexer": "ipython3",
   "version": "3.9.7"
  }
 },
 "nbformat": 4,
 "nbformat_minor": 5
}